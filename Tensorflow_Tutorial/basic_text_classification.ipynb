{
 "cells": [
  {
   "cell_type": "markdown",
   "id": "ae6ad4ea",
   "metadata": {},
   "source": [
    "# 기본 분류 - 영화 리뷰를 사용한 텍스트 분류(with IMDB)"
   ]
  },
  {
   "cell_type": "markdown",
   "id": "a9d36124",
   "metadata": {},
   "source": [
    "## 0. 기본 라이브러리 불러오기"
   ]
  },
  {
   "cell_type": "code",
   "execution_count": 2,
   "id": "a1d71e70",
   "metadata": {},
   "outputs": [],
   "source": [
    "import tensorflow as tf\n",
    "import matplotlib.pyplot as plt\n",
    "import os\n",
    "import re\n",
    "import shutil\n",
    "import string\n",
    "\n",
    "from tensorflow.keras import layers\n",
    "from tensorflow.keras import losses"
   ]
  },
  {
   "cell_type": "code",
   "execution_count": 3,
   "id": "d713ad0e",
   "metadata": {},
   "outputs": [
    {
     "name": "stdout",
     "output_type": "stream",
     "text": [
      "2.3.0\n"
     ]
    }
   ],
   "source": [
    "print(tf.__version__)"
   ]
  },
  {
   "cell_type": "markdown",
   "id": "4129170c",
   "metadata": {},
   "source": [
    "## 1. 감정 분석"
   ]
  },
  {
   "cell_type": "markdown",
   "id": "4e902d98",
   "metadata": {},
   "source": [
    "이 예시는 리뷰 텍스트를 사용하여 영화 리뷰를 <span style='background-color:#fff5b1'>긍정적 또는 부정적</span>으로 분류한다.<br/>\n",
    "중요하고 널리 적용 가능한 머신러닝 문제인 <span style='background-color:#fff5b1'>이진 분류 문제</span>이다."
   ]
  },
  {
   "cell_type": "markdown",
   "id": "e0a4f39b",
   "metadata": {},
   "source": [
    "[IMDB 데이터세트](https://ai.stanford.edu/~amaas/data/sentiment/)에는 [인터넷 영화 데이터베이스](https://www.imdb.com/)에서 가져온 50,000개의 영화 리뷰 텍스트가 포함되어있다.<br/>\n",
    "훈련용 리뷰 25,000개와 테스트용 리뷰 25,000개로 나뉜다.<br/>\n",
    "훈련 및 테스트 세트는 균형을 이룬다. 즉, <span style='background-color:#fff5b1'>동일한 수의 긍정적인 리뷰와 부정적인 리뷰가 포함되어 있다.</span>"
   ]
  },
  {
   "cell_type": "markdown",
   "id": "87ba3300",
   "metadata": {},
   "source": [
    "### 1-1 데이터세트 다운로드 및 탐색"
   ]
  },
  {
   "cell_type": "markdown",
   "id": "6a71df9d",
   "metadata": {},
   "source": [
    "데이터 세트를 다운로드하여 추출한 다음 디렉터리 구조를 살펴보자."
   ]
  },
  {
   "cell_type": "code",
   "execution_count": 4,
   "id": "d89e1b75",
   "metadata": {},
   "outputs": [],
   "source": [
    "url = \"https://ai.stanford.edu/~amaas/data/sentiment/aclImdb_v1.tar.gz\"\n",
    "\n",
    "dataset = tf.keras.utils.get_file(\"acImdb_v1\", url,\n",
    "                                  untar=True, cache_dir='.',\n",
    "                                  cache_subdir='')\n",
    "\n",
    "dataset_dir = os.path.join(os.path.dirname(dataset), 'aclImdb')"
   ]
  },
  {
   "cell_type": "code",
   "execution_count": 5,
   "id": "e1ca37d8",
   "metadata": {},
   "outputs": [
    {
     "data": {
      "text/plain": [
       "['test', 'imdbEr.txt', 'README', 'train', 'imdb.vocab']"
      ]
     },
     "execution_count": 5,
     "metadata": {},
     "output_type": "execute_result"
    }
   ],
   "source": [
    "os.listdir(dataset_dir)"
   ]
  },
  {
   "cell_type": "code",
   "execution_count": 6,
   "id": "dc5ea082",
   "metadata": {},
   "outputs": [
    {
     "data": {
      "text/plain": [
       "['urls_unsup.txt',\n",
       " 'unsupBow.feat',\n",
       " 'labeledBow.feat',\n",
       " 'pos',\n",
       " 'urls_neg.txt',\n",
       " 'urls_pos.txt',\n",
       " 'neg',\n",
       " 'unsup']"
      ]
     },
     "execution_count": 6,
     "metadata": {},
     "output_type": "execute_result"
    }
   ],
   "source": [
    "train_dir = os.path.join(dataset_dir, 'train')\n",
    "os.listdir(train_dir)"
   ]
  },
  {
   "cell_type": "markdown",
   "id": "6434ee86",
   "metadata": {},
   "source": [
    "```aclImdb/train/pos``` 와 ```aclImdb/train/neg``` 디렉토리에는 각각 단일 영화를 리뷰한 많은 텍스트 파일이 포함되어 있다. 그 중 하나를 살펴보자."
   ]
  },
  {
   "cell_type": "code",
   "execution_count": 7,
   "id": "b4b677a6",
   "metadata": {},
   "outputs": [
    {
     "name": "stdout",
     "output_type": "stream",
     "text": [
      "Rachel Griffiths writes and directs this award winning short film. A heartwarming story about coping with grief and cherishing the memory of those we've loved and lost. Although, only 15 minutes long, Griffiths manages to capture so much emotion and truth onto film in the short space of time. Bud Tingwell gives a touching performance as Will, a widower struggling to cope with his wife's death. Will is confronted by the harsh reality of loneliness and helplessness as he proceeds to take care of Ruth's pet cow, Tulip. The film displays the grief and responsibility one feels for those they have loved and lost. Good cinematography, great direction, and superbly acted. It will bring tears to all those who have lost a loved one, and survived.\n"
     ]
    }
   ],
   "source": [
    "sample_file = os.path.join(train_dir, 'pos/1181_9.txt')\n",
    "with open(sample_file) as f:\n",
    "    print(f.read())"
   ]
  },
  {
   "cell_type": "markdown",
   "id": "5643899f",
   "metadata": {},
   "source": [
    "### 1-2 데이터세트 로드하기"
   ]
  },
  {
   "cell_type": "markdown",
   "id": "8a3440da",
   "metadata": {},
   "source": [
    "다음으로, 디스크에서 데이터세트를 로드하고 훈련에 적합한 형식으로 준비한다.<br/>\n",
    "이를 위해 다음과 같은 디렉토리 구조를 예상하는 유용한 [text_dataset_from_directory](https://www.tensorflow.org/api_docs/python/tf/keras/preprocessing/text_dataset_from_directory?hl=ko)유틸리티를 사용한다."
   ]
  },
  {
   "cell_type": "markdown",
   "id": "c1669ba2",
   "metadata": {},
   "source": [
    "main_directory/<br/>\n",
    "...class_a/<br/>\n",
    "......a_text_1.txt<br/>\n",
    "......a_text_2.txt<br/>\n",
    "...class_b/<br/>\n",
    "......b_text_1.txt<br/>\n",
    "......b_text_2.txt<br/>"
   ]
  },
  {
   "cell_type": "markdown",
   "id": "1ce2dd6b",
   "metadata": {},
   "source": [
    "이진분류를 위한 데이터세트를 준비하려면 ```class_a``` 및 ```class_b``` 에 해당하는 두 개의 폴더가 필요하다.<br/>\n",
    "이것들은 ```aclImdb/train/pos``` 및 ```aclImdb/train/neg``` 에서 찾을 수 있는 긍정적 영화 리뷰와 부정적 영화 리뷰이다.<br/>\n",
    "IMDB 데이터세트에는 추가 폴더가 포함되어 있으므로 이 유틸리티를 사용하기 전에 제거한다."
   ]
  },
  {
   "cell_type": "code",
   "execution_count": 8,
   "id": "f99dbfac",
   "metadata": {},
   "outputs": [],
   "source": [
    "remove_dir = os.path.join(train_dir, 'unsup')\n",
    "shutil.rmtree(remove_dir)"
   ]
  },
  {
   "cell_type": "markdown",
   "id": "f0005d20",
   "metadata": {},
   "source": [
    "다음으로 ```text_dataset_from_directory``` 유틸리티를 사용하여 레이블이 지정된 ```tf.data.Dataset``` 을 만든다.<br/>\n",
    "```tf.data``` 는 데이터 작업을 위한 강력한 도구 모음이다.<br/>"
   ]
  },
  {
   "cell_type": "markdown",
   "id": "352bba2c",
   "metadata": {},
   "source": [
    "<span style='background-color:#fff5b1'>머신러닝 실험을 진행 할 때, 데이터세트를 ```train```, ```validation```, ```test``` 세 부분으로 나누는 것이 제일 좋다.</span>"
   ]
  },
  {
   "cell_type": "markdown",
   "id": "521e5a4a",
   "metadata": {},
   "source": [
    "IMDB 데이터세트는 이미 훈련과 테스트로 나누어져 있지만 검증 세트가 부족하다.<br/>\n",
    "```validation_split``` 인수를 사용하여 훈련 데이터를 80:20으로 분할하여 검증 세트를 생성해보자."
   ]
  },
  {
   "cell_type": "code",
   "execution_count": 9,
   "id": "bad6b50f",
   "metadata": {},
   "outputs": [
    {
     "name": "stdout",
     "output_type": "stream",
     "text": [
      "Found 25000 files belonging to 2 classes.\n",
      "Using 20000 files for training.\n"
     ]
    }
   ],
   "source": [
    "batch_size = 32\n",
    "seed = 42\n",
    "\n",
    "raw_train_ds = tf.keras.preprocessing.text_dataset_from_directory('aclImdb/train',\n",
    "                                                                  batch_size=batch_size,\n",
    "                                                                  validation_split=0.2,\n",
    "                                                                  subset='training',\n",
    "                                                                  seed=seed)"
   ]
  },
  {
   "cell_type": "markdown",
   "id": "74583ebc",
   "metadata": {},
   "source": [
    "training 폴더에는 25,000개의 예제가 있으며, 그 중 80%(20,000개)를 훈련에 사용 할 것이다.<br/>\n",
    "잠시후에 알 수 있겠지만 데이터세트를 ```model.fit``` 에 직접 전달하여 모델을 훈련할 수 있다.<br/>\n",
    "[```tf.data```](https://www.tensorflow.org/api_docs/python/tf/data?hl=ko)를 처음 사용하는 경우 데이터세트를 반복하고 다음과 같은 몇 가지 예를 출력할 수도 있다."
   ]
  },
  {
   "cell_type": "code",
   "execution_count": 10,
   "id": "10736192",
   "metadata": {},
   "outputs": [
    {
     "name": "stdout",
     "output_type": "stream",
     "text": [
      "Review b'\"Pandemonium\" is a horror movie spoof that comes off more stupid than funny. Believe me when I tell you, I love comedies. Especially comedy spoofs. \"Airplane\", \"The Naked Gun\" trilogy, \"Blazing Saddles\", \"High Anxiety\", and \"Spaceballs\" are some of my favorite comedies that spoof a particular genre. \"Pandemonium\" is not up there with those films. Most of the scenes in this movie had me sitting there in stunned silence because the movie wasn\\'t all that funny. There are a few laughs in the film, but when you watch a comedy, you expect to laugh a lot more than a few times and that\\'s all this film has going for it. Geez, \"Scream\" had more laughs than this film and that was more of a horror film. How bizarre is that?<br /><br />*1/2 (out of four)'\n",
      "Label 0\n",
      "Review b\"David Mamet is a very interesting and a very un-equal director. His first movie 'House of Games' was the one I liked best, and it set a series of films with characters whose perspective of life changes as they get into complicated situations, and so does the perspective of the viewer.<br /><br />So is 'Homicide' which from the title tries to set the mind of the viewer to the usual crime drama. The principal characters are two cops, one Jewish and one Irish who deal with a racially charged area. The murder of an old Jewish shop owner who proves to be an ancient veteran of the Israeli Independence war triggers the Jewish identity in the mind and heart of the Jewish detective.<br /><br />This is were the flaws of the film are the more obvious. The process of awakening is theatrical and hard to believe, the group of Jewish militants is operatic, and the way the detective eventually walks to the final violent confrontation is pathetic. The end of the film itself is Mamet-like smart, but disappoints from a human emotional perspective.<br /><br />Joe Mantegna and William Macy give strong performances, but the flaws of the story are too evident to be easily compensated.\"\n",
      "Label 0\n",
      "Review b'Great documentary about the lives of NY firefighters during the worst terrorist attack of all time.. That reason alone is why this should be a must see collectors item.. What shocked me was not only the attacks, but the\"High Fat Diet\" and physical appearance of some of these firefighters. I think a lot of Doctors would agree with me that,in the physical shape they were in, some of these firefighters would NOT of made it to the 79th floor carrying over 60 lbs of gear. Having said that i now have a greater respect for firefighters and i realize becoming a firefighter is a life altering job. The French have a history of making great documentary\\'s and that is what this is, a Great Documentary.....'\n",
      "Label 1\n"
     ]
    }
   ],
   "source": [
    "for text_batch, label_batch in raw_train_ds.take(1):\n",
    "    for i in range(3):\n",
    "        print(\"Review\", text_batch.numpy()[i])\n",
    "        print(\"Label\", label_batch.numpy()[i])"
   ]
  },
  {
   "cell_type": "markdown",
   "id": "875224cc",
   "metadata": {},
   "source": [
    "리뷰에는 ```<br/>``` 과 같은 간헐적 HTML태그와 구두점을 포함한 원시 텍스트 데이터가 포함되어있다는 점에 주목하자.<br/>\n",
    "다음 섹션에서 이를 처리하는 방법을 보여준다."
   ]
  },
  {
   "cell_type": "markdown",
   "id": "42f2e324",
   "metadata": {},
   "source": [
    "레이블은 0 또는 1이다. 이들 중 어느 것이 긍정적이고 부정적인 영화리뷰에 해당하는지 확인하려면 데이터세트에서 ```class_names``` 속성을 확인할 수 있다."
   ]
  },
  {
   "cell_type": "code",
   "execution_count": 11,
   "id": "e54fab3e",
   "metadata": {},
   "outputs": [
    {
     "name": "stdout",
     "output_type": "stream",
     "text": [
      "Label 0 corresponds to neg\n",
      "Label 1 corresponds to pos\n"
     ]
    }
   ],
   "source": [
    "print('Label 0 corresponds to', raw_train_ds.class_names[0])\n",
    "print('Label 1 corresponds to', raw_train_ds.class_names[1])"
   ]
  },
  {
   "cell_type": "markdown",
   "id": "2a19b14c",
   "metadata": {},
   "source": [
    "다음으로, 검증 및 테스트 데이터세트를 만든다.<br/>\n",
    "검증을 위해 훈련 세트의 나머지 5000개 리뷰를 사용한다."
   ]
  },
  {
   "cell_type": "code",
   "execution_count": 12,
   "id": "3514ce48",
   "metadata": {},
   "outputs": [
    {
     "name": "stdout",
     "output_type": "stream",
     "text": [
      "Found 25000 files belonging to 2 classes.\n",
      "Using 5000 files for validation.\n"
     ]
    }
   ],
   "source": [
    "raw_val_ds = tf.keras.preprocessing.text_dataset_from_directory('aclImdb/train',\n",
    "                                                                batch_size=batch_size,\n",
    "                                                                validation_split=0.2,\n",
    "                                                                subset='validation',\n",
    "                                                                seed=seed)"
   ]
  },
  {
   "cell_type": "code",
   "execution_count": 13,
   "id": "637c6a22",
   "metadata": {},
   "outputs": [
    {
     "name": "stdout",
     "output_type": "stream",
     "text": [
      "Found 25000 files belonging to 2 classes.\n"
     ]
    }
   ],
   "source": [
    "raw_test_ds = tf.keras.preprocessing.text_dataset_from_directory('aclImdb/test',\n",
    "                                                                 batch_size=batch_size)"
   ]
  },
  {
   "cell_type": "markdown",
   "id": "b7c1ca6a",
   "metadata": {},
   "source": [
    "### 1-3 훈련을 위한 데이터세트 준비하기"
   ]
  },
  {
   "cell_type": "markdown",
   "id": "b778b530",
   "metadata": {},
   "source": [
    "다음으로, 유용한 ```tf.keras.layers.TextVectorization``` 레이어를 사용하여 데이터를 <span style='background-color:#fff5b1'>표준화, 토큰화 및 벡터화 한다.</span>"
   ]
  },
  {
   "cell_type": "markdown",
   "id": "a0b9b8c2",
   "metadata": {},
   "source": [
    "<span style='background-color:#ffdce0'>표준화</span>는 <span style='background-color:#ffdce0'>일반적으로 구두점이나 HTML 요소를 제거하여 데이터세트를 단순화하기 위해 텍스트를 전처리하는 것을 말한다.</span><br/>\n",
    "<span style='background-color:#ffdce0'>토큰화</span>는 문자열을 여러 토큰으로 분할하는 것을 말한다.</span>(ex. 화이트스페이스에서 분할하여 문장을 개별단어로 분할)<br/>\n",
    "<span style='background-color:#ffdce0'>벡터화</span>는 <span style='background-color:#ffdce0'>토큰을 숫자로 분할하여 신경망에 공급될 수 있도록 하는 것을 말한다.</span><br/>\n",
    "이러한 모든 작업을 이 레이어에서 수행할 수 있다."
   ]
  },
  {
   "cell_type": "markdown",
   "id": "303e1d96",
   "metadata": {},
   "source": [
    "위에서 볼 수 있듯이, 리뷰에는 ```<br/>```와 같은 다양한 HTML태그가 포함되어 있다.<br/>\n",
    "이러한 태그는 ```TextVectorization``` 레이어의 기본 표준화 도구로 제거되지 않는다.(텍스트를 소문자로 변환하고 구두점은 제거하지만 HTML은 제거하지 않음)<br/>\n",
    "HTML을 제거하기 위해 사용자 정의 표준화 함수를 작성한다."
   ]
  },
  {
   "cell_type": "markdown",
   "id": "91c52132",
   "metadata": {},
   "source": [
    "<참고><br/>\n",
    "[훈련-테스트 왜곡]()(훈련-제공 왜곡이라고도 함)을 방지하려면 훈련 및 테스트 시간에 데이터를 동일하게 전처리 하는것이 중요하다.<br/>\n",
    "이를 용이하게 하기 위해 ```TextVectorization``` 레이어를 모델 내에 직접 포함할 수 있다."
   ]
  },
  {
   "cell_type": "code",
   "execution_count": 14,
   "id": "6100f5a3",
   "metadata": {},
   "outputs": [],
   "source": [
    "def custom_standardization(input_data):\n",
    "    lowercase = tf.strings.lower(input_data)\n",
    "    stripped_html = tf.strings.regex_replace(lowercase, '<br/ >', ' ')\n",
    "    return tf.strings.regex_replace(stripped_html,\n",
    "                                    '[%s]' % re.escape(string.punctuation),\n",
    "                                    '')"
   ]
  },
  {
   "cell_type": "markdown",
   "id": "85ca50b0",
   "metadata": {},
   "source": [
    "다음으로 ```TextVectorization``` 레이러를 만든다.<br/>\n",
    "<span style='background-color:#ffdce0'>이 레이어를 사용하여 데이터를 표준화, 토큰화 및 벡터화 한다.</span><br/>\n",
    "각 토큰에 대해 고유한 정수 인덱스를 생성하도록 ```output_mode```를 ```int``` 로 설정한다."
   ]
  },
  {
   "cell_type": "markdown",
   "id": "c123b167",
   "metadata": {},
   "source": [
    "기본 분할 함수와 위에서 정의한 사용자 지정 표준화 함수를 사용하고 있다.<br/>\n",
    "명시적 최댓값인 ```sequence_length```와 같이 모델에 대한 몇가지 상수를 정의하여 레이어가 시퀀스를 정확히 ```sequence_length```값으로 채우거나 자르도록 한다."
   ]
  },
  {
   "cell_type": "code",
   "execution_count": 15,
   "id": "328eb322",
   "metadata": {},
   "outputs": [],
   "source": [
    "max_features = 10000\n",
    "sequence_length = 250\n",
    "\n",
    "vectorize_layer = tf.keras.layers.experimental.preprocessing.TextVectorization(standardize=custom_standardization,\n",
    "                                                                               max_tokens=max_features,\n",
    "                                                                               output_mode='int',\n",
    "                                                                               output_sequence_length=sequence_length)"
   ]
  },
  {
   "cell_type": "markdown",
   "id": "712fae4a",
   "metadata": {},
   "source": [
    "다음으로, 전처리 레이어의 상태를 데이터세트에 맞추기 위해 ```adapt```를 호출한다.<br/>\n",
    "그러면 모델이 문자열 인덱스를 정수로 빌드업한다."
   ]
  },
  {
   "cell_type": "markdown",
   "id": "8e5668a5",
   "metadata": {},
   "source": [
    "<참고><br/>\n",
    "```adapt```를 호출할 때 훈련 데이터만 사용하는것이 중요하다.(테스트 데이터를 사용하면 정보가 누출됨)"
   ]
  },
  {
   "cell_type": "code",
   "execution_count": 16,
   "id": "c9319f2a",
   "metadata": {},
   "outputs": [],
   "source": [
    "train_text = raw_train_ds.map(lambda x, y: x)\n",
    "vectorize_layer.adapt(train_text)"
   ]
  },
  {
   "cell_type": "markdown",
   "id": "c7f5748b",
   "metadata": {},
   "source": [
    "이 레이어를 사용하여 일부 데이터를 전처리한 결과를 확인하는 함수를 만들어보자."
   ]
  },
  {
   "cell_type": "code",
   "execution_count": 17,
   "id": "d0b855ed",
   "metadata": {},
   "outputs": [],
   "source": [
    "def vectorize_text(text, label):\n",
    "    text = tf.expand_dims(text, -1)\n",
    "    return vectorize_layer(text), label"
   ]
  },
  {
   "cell_type": "code",
   "execution_count": 18,
   "id": "46e0c855",
   "metadata": {},
   "outputs": [
    {
     "name": "stdout",
     "output_type": "stream",
     "text": [
      "Review tf.Tensor(b'Silent Night, Deadly Night 5 is the very last of the series, and like part 4, it\\'s unrelated to the first three except by title and the fact that it\\'s a Christmas-themed horror flick.<br /><br />Except to the oblivious, there\\'s some obvious things going on here...Mickey Rooney plays a toymaker named Joe Petto and his creepy son\\'s name is Pino. Ring a bell, anyone? Now, a little boy named Derek heard a knock at the door one evening, and opened it to find a present on the doorstep for him. Even though it said \"don\\'t open till Christmas\", he begins to open it anyway but is stopped by his dad, who scolds him and sends him to bed, and opens the gift himself. Inside is a little red ball that sprouts Santa arms and a head, and proceeds to kill dad. Oops, maybe he should have left well-enough alone. Of course Derek is then traumatized by the incident since he watched it from the stairs, but he doesn\\'t grow up to be some killer Santa, he just stops talking.<br /><br />There\\'s a mysterious stranger lurking around, who seems very interested in the toys that Joe Petto makes. We even see him buying a bunch when Derek\\'s mom takes him to the store to find a gift for him to bring him out of his trauma. And what exactly is this guy doing? Well, we\\'re not sure but he does seem to be taking these toys apart to see what makes them tick. He does keep his landlord from evicting him by promising him to pay him in cash the next day and presents him with a \"Larry the Larvae\" toy for his kid, but of course \"Larry\" is not a good toy and gets out of the box in the car and of course, well, things aren\\'t pretty.<br /><br />Anyway, eventually what\\'s going on with Joe Petto and Pino is of course revealed, and as with the old story, Pino is not a \"real boy\". Pino is probably even more agitated and naughty because he suffers from \"Kenitalia\" (a smooth plastic crotch) so that could account for his evil ways. And the identity of the lurking stranger is revealed too, and there\\'s even kind of a happy ending of sorts. Whee.<br /><br />A step up from part 4, but not much of one. Again, Brian Yuzna is involved, and Screaming Mad George, so some decent special effects, but not enough to make this great. A few leftovers from part 4 are hanging around too, like Clint Howard and Neith Hunter, but that doesn\\'t really make any difference. Anyway, I now have seeing the whole series out of my system. Now if I could get some of it out of my brain. 4 out of 5.', shape=(), dtype=string)\n",
      "Label neg\n",
      "Vectorized review (<tf.Tensor: shape=(1, 250), dtype=int64, numpy=\n",
      "array([[1280,  313, 2383,  313,  659,    7,    2,   53,  228,    5,    2,\n",
      "         204,    3,   39,  171,  667,   30, 5511,    6,    2,   85,  296,\n",
      "         541,   33,  412,    3,    2,  186,   12,   30,    4,    1,  194,\n",
      "        7159,   13,  541,    6,    2, 8502,  210,   47,  575,  177,  168,\n",
      "          21,    1, 5441,  287,    4,    1,  760,  962,    1,    3,   25,\n",
      "         942, 2297,  397,    7,    1, 1666,    4, 3735,  253,  149,    4,\n",
      "         111,  439,  760, 3547,  543,    4, 3623,   31,    2, 1357,   29,\n",
      "        2136,    3, 2903,    9,    6,  162,    4, 1006,   21,    2,    1,\n",
      "          16,   89,   54,  148,    9,  293,   90,  961, 2295,  990,   28,\n",
      "         777,    6,  961,    9,  587,   19,    7, 2162,   33,   25, 1270,\n",
      "          37,    1,   89,    3, 3295,   89,    6, 1421,    3, 1919,    2,\n",
      "        3403,  304,  971,    7,    4,  111,  738, 1980,   12,    1, 1999,\n",
      "        2850,    3,    4,  430,    3, 5180,    6,  505, 1270,    1,  273,\n",
      "          28,  139,   26,  306,    1,  596,    5,  260, 3547,    7,   91,\n",
      "        9072,   33,    2, 3877,  230,   28,  285,    9,   36,    2, 6002,\n",
      "          19,   28,  145, 2144,   58,    6,   27,   47,  468, 1999,   28,\n",
      "          41, 2754,    1,   13,  210,    4, 1363, 2996, 7128,  184,   37,\n",
      "         181,   53,  915,    8,    2, 4027,   12,  962,    1,  159,   72,\n",
      "          54,   69,   89, 2750,    4,  735,   52,    1, 1599,  292,   89,\n",
      "           6,    2, 1169,    6,  162,    4, 3403,   16,   89,    6,  712,\n",
      "          89,   46,    5,   25, 7354,    3,   49,  594,    7,   11,  226,\n",
      "         386,   74,   66,   22,  243,   19,   28,  120,  295,    6,   27,\n",
      "         662,  129, 4027,  956,    6,   69,   49,  159]])>, <tf.Tensor: shape=(), dtype=int32, numpy=0>)\n"
     ]
    }
   ],
   "source": [
    "text_batch, label_batch = next(iter(raw_train_ds))\n",
    "first_review, first_label = text_batch[0], label_batch[0]\n",
    "print(\"Review\", first_review)\n",
    "print(\"Label\", raw_train_ds.class_names[first_label])\n",
    "print(\"Vectorized review\", vectorize_text(first_review, first_label))"
   ]
  },
  {
   "cell_type": "markdown",
   "id": "7c51a122",
   "metadata": {},
   "source": [
    "위에서 볼 수 있듯이 각 토큰은 정수로 대체되었다.<br/>\n",
    "레이어에서 ```.get_vocabulary()```를 호출하여 각 정수에 해당하는 토큰(문자열)을 조회할 수 있다."
   ]
  },
  {
   "cell_type": "code",
   "execution_count": 19,
   "id": "8ee89c68",
   "metadata": {},
   "outputs": [
    {
     "name": "stdout",
     "output_type": "stream",
     "text": [
      "1287 --->  naked\n",
      " 313 --->  night\n",
      "Vocabulary size: 10000\n"
     ]
    }
   ],
   "source": [
    "print(\"1287 ---> \",vectorize_layer.get_vocabulary()[1287])\n",
    "print(\" 313 ---> \",vectorize_layer.get_vocabulary()[313])\n",
    "print('Vocabulary size: {}'.format(len(vectorize_layer.get_vocabulary())))"
   ]
  },
  {
   "cell_type": "markdown",
   "id": "5d595b1e",
   "metadata": {},
   "source": [
    "모델을 훈련할 준비가 거의 되었다.<br/>\n",
    "<span style='background-color:#fff5b1'>최종 전처리 단계로 이전에 생성한 TextVectorization 레이어를 훈련, 검증, 테스트 데이터세트에 적용한다.</span>"
   ]
  },
  {
   "cell_type": "code",
   "execution_count": 20,
   "id": "0c288c66",
   "metadata": {},
   "outputs": [],
   "source": [
    "train_ds = raw_train_ds.map(vectorize_text)\n",
    "val_ds = raw_val_ds.map(vectorize_text)\n",
    "test_ds = raw_test_ds.map(vectorize_text)"
   ]
  },
  {
   "cell_type": "markdown",
   "id": "69ee3ab4",
   "metadata": {},
   "source": [
    "### 1-4 성능을 높이도록 데이터세트 구성하기"
   ]
  },
  {
   "cell_type": "markdown",
   "id": "50661072",
   "metadata": {},
   "source": [
    "다음은 I/O가 차단되지 않도록 데이터를 로드할 때 사용해야 하는 두가지 중요한 메서드이다.<br/>\n",
    "1. ```.cache()```는 데이터가 디스크에서 로드된 후 메모리에 데이터를 보관한다. 이렇게 하면 모델을 훈련하는 동안 데이터세트로 인해 병목현상이 발생하지 않는다.<br/>데이터세트가 너무 커서 메모리에 맞지 않는 경우, 이 메서드를 사용하여 성능이 뛰어난 온 디스크 캐시를 생성할 수도 있다.<br/>많은 작은 파일보다 읽기가 더 효율적이다.\n",
    "2. ```.prefetch()```는 훈련중에 데이터 전처리 및 모델 실행과 겹친다.<br/><br/>"
   ]
  },
  {
   "cell_type": "markdown",
   "id": "385942ae",
   "metadata": {},
   "source": [
    "[데이터 성능 가이드](https://www.tensorflow.org/guide/data_performance?hl=ko)에서 두 가지 메서드와 데이터를 디스크에 캐싱하는 방법에 관해 자세하게 알아볼 수 있다."
   ]
  },
  {
   "cell_type": "code",
   "execution_count": 21,
   "id": "b45df307",
   "metadata": {},
   "outputs": [],
   "source": [
    "AUTOTUNE = tf.data.experimental.AUTOTUNE\n",
    "\n",
    "train_ds = train_ds.cache().prefetch(buffer_size=AUTOTUNE)\n",
    "val_ds = val_ds.cache().prefetch(buffer_size=AUTOTUNE)\n",
    "test_ds = test_ds.cache().prefetch(buffer_size=AUTOTUNE)"
   ]
  },
  {
   "cell_type": "markdown",
   "id": "a95bdf10",
   "metadata": {},
   "source": [
    "### 1-5 모델 생성"
   ]
  },
  {
   "cell_type": "code",
   "execution_count": 22,
   "id": "bdc553fc",
   "metadata": {},
   "outputs": [],
   "source": [
    "embedding_dim = 16"
   ]
  },
  {
   "cell_type": "code",
   "execution_count": 23,
   "id": "bb162f83",
   "metadata": {},
   "outputs": [
    {
     "name": "stdout",
     "output_type": "stream",
     "text": [
      "Model: \"sequential\"\n",
      "_________________________________________________________________\n",
      "Layer (type)                 Output Shape              Param #   \n",
      "=================================================================\n",
      "embedding (Embedding)        (None, None, 16)          160016    \n",
      "_________________________________________________________________\n",
      "dropout (Dropout)            (None, None, 16)          0         \n",
      "_________________________________________________________________\n",
      "global_average_pooling1d (Gl (None, 16)                0         \n",
      "_________________________________________________________________\n",
      "dropout_1 (Dropout)          (None, 16)                0         \n",
      "_________________________________________________________________\n",
      "dense (Dense)                (None, 1)                 17        \n",
      "=================================================================\n",
      "Total params: 160,033\n",
      "Trainable params: 160,033\n",
      "Non-trainable params: 0\n",
      "_________________________________________________________________\n"
     ]
    }
   ],
   "source": [
    "model = tf.keras.Sequential([\n",
    "    layers.Embedding(max_features+1, embedding_dim),\n",
    "    layers.Dropout(0.2),\n",
    "    layers.GlobalAveragePooling1D(),\n",
    "    layers.Dropout(0.2),\n",
    "    layers.Dense(1)\n",
    "])\n",
    "\n",
    "model.summary()"
   ]
  },
  {
   "cell_type": "markdown",
   "id": "a977e932",
   "metadata": {},
   "source": [
    "층을 순서대로 쌓아 분류기(classifier)를 만든다.<br/>\n",
    "1. 첫 번째 레이어는 ```Embedding``` 레이어이다. 이 레이어는 정수로 인코딩된 리뷰를 입력 받고 각 단어 인덱스에 해당하는 임베딩 벡터를 찾는다.<br/>이러한 벡터는 모델이 훈련되면서 학습된다. 이들 벡터는 출력 배열에 차원을 추가한다.<br/>최종 차원은 ```(batch, sequence, embedding)```이 된다. 임베딩에 대해 보다 자세히 알아보고 싶다면, [단어 임베딩](https://www.tensorflow.org/text/guide/word_embeddings?hl=ko)튜토리얼을 확인하자.\n",
    "2. 그 다음 ```GlobalAveragePooling1d```층은 ```sequence``` 차원에 대해 평균을 계산하여 각 샘플에 대해 고정된 길이의 출력 벡터를 반환한다.<br/>이는 길이가 다른 입력을 다루는 가장 간단한 방법이다.\n",
    "3. 이 고정 길이의 출력 벡터는 16개의 은닉 유닛을 가진 완전연결층(```Dense```)을 거친다.\n",
    "4. 마지막 층은 하나의 출력 노드를 가진 완전연결층(```Dense```)이다.<br/>```sigmoid```함수를 사용하여 0~1의 실수를 출력한다. 이 값은 확률 또는 신뢰도를 나타낸다."
   ]
  },
  {
   "cell_type": "markdown",
   "id": "2f90b93e",
   "metadata": {},
   "source": [
    "### 1-6 손실 함수와 옵티마이저"
   ]
  },
  {
   "cell_type": "markdown",
   "id": "e5df4b5d",
   "metadata": {},
   "source": [
    "<span style='background-color:#fff5b1'>모델이 훈련하려면 손실 함수(loss function)과 옵티마이저(optimizer)가 필요하다.</span><br/>\n",
    "이 예제는 이진 분류 문제이고 모델이 확률을 출력하므로(출력층의 유닛이 1이고 ```sigmoid```활성화 함수를 사용), ```binary_crossentropy``` 손실함수를 사용하자.<br/>"
   ]
  },
  {
   "cell_type": "code",
   "execution_count": 24,
   "id": "8e8c7857",
   "metadata": {},
   "outputs": [],
   "source": [
    "model.compile(loss=losses.BinaryCrossentropy(from_logits=True),\n",
    "              optimizer='adam',\n",
    "              metrics=tf.metrics.BinaryAccuracy(threshold=0.0))"
   ]
  },
  {
   "cell_type": "markdown",
   "id": "35d6d2d8",
   "metadata": {},
   "source": [
    "### 1-7 모델 훈련하기"
   ]
  },
  {
   "cell_type": "markdown",
   "id": "1e586f01",
   "metadata": {},
   "source": [
    "```dataset``` 개체를 fit 메서드에 전달하여 모델을 훈련한다."
   ]
  },
  {
   "cell_type": "code",
   "execution_count": 25,
   "id": "7bd950c5",
   "metadata": {},
   "outputs": [
    {
     "name": "stdout",
     "output_type": "stream",
     "text": [
      "Epoch 1/10\n",
      "625/625 [==============================] - 5s 8ms/step - loss: 0.6635 - binary_accuracy: 0.6897 - val_loss: 0.6139 - val_binary_accuracy: 0.7742\n",
      "Epoch 2/10\n",
      "625/625 [==============================] - 4s 7ms/step - loss: 0.5482 - binary_accuracy: 0.7991 - val_loss: 0.4984 - val_binary_accuracy: 0.8190\n",
      "Epoch 3/10\n",
      "625/625 [==============================] - 4s 7ms/step - loss: 0.4457 - binary_accuracy: 0.8431 - val_loss: 0.4215 - val_binary_accuracy: 0.8470\n",
      "Epoch 4/10\n",
      "625/625 [==============================] - 4s 7ms/step - loss: 0.3801 - binary_accuracy: 0.8650 - val_loss: 0.3758 - val_binary_accuracy: 0.8604\n",
      "Epoch 5/10\n",
      "625/625 [==============================] - 4s 7ms/step - loss: 0.3373 - binary_accuracy: 0.8773 - val_loss: 0.3473 - val_binary_accuracy: 0.8660\n",
      "Epoch 6/10\n",
      "625/625 [==============================] - 4s 7ms/step - loss: 0.3067 - binary_accuracy: 0.8873 - val_loss: 0.3285 - val_binary_accuracy: 0.8708\n",
      "Epoch 7/10\n",
      "625/625 [==============================] - 5s 8ms/step - loss: 0.2835 - binary_accuracy: 0.8965 - val_loss: 0.3153 - val_binary_accuracy: 0.8720\n",
      "Epoch 8/10\n",
      "625/625 [==============================] - 4s 7ms/step - loss: 0.2644 - binary_accuracy: 0.9037 - val_loss: 0.3058 - val_binary_accuracy: 0.8756\n",
      "Epoch 9/10\n",
      "625/625 [==============================] - 4s 7ms/step - loss: 0.2472 - binary_accuracy: 0.9100 - val_loss: 0.2993 - val_binary_accuracy: 0.8774\n",
      "Epoch 10/10\n",
      "625/625 [==============================] - 4s 7ms/step - loss: 0.2331 - binary_accuracy: 0.9153 - val_loss: 0.2946 - val_binary_accuracy: 0.8774\n"
     ]
    }
   ],
   "source": [
    "epochs = 10\n",
    "history = model.fit(train_ds,\n",
    "                    validation_data=val_ds,\n",
    "                    epochs=epochs)"
   ]
  },
  {
   "cell_type": "markdown",
   "id": "a3c23ce8",
   "metadata": {},
   "source": [
    "### 1-8 모델 평가하기"
   ]
  },
  {
   "cell_type": "markdown",
   "id": "ef6ce015",
   "metadata": {},
   "source": [
    "모델의 성능을 평가해보자.<br/>\n",
    "<span style='background-color:#fff5b1'>손실과 정확도 두 개의 값이 반환된다.</span>"
   ]
  },
  {
   "cell_type": "code",
   "execution_count": 26,
   "id": "7914ad7e",
   "metadata": {},
   "outputs": [
    {
     "name": "stdout",
     "output_type": "stream",
     "text": [
      "782/782 [==============================] - 3s 4ms/step - loss: 0.3130 - binary_accuracy: 0.8718\n",
      "Loss : 0.313039094209671\n",
      "Accuracy : 0.8718000054359436\n"
     ]
    }
   ],
   "source": [
    "loss, accuracy = model.evaluate(test_ds)\n",
    "\n",
    "print('Loss :', loss)\n",
    "print('Accuracy :', accuracy)"
   ]
  },
  {
   "cell_type": "markdown",
   "id": "bd0376b0",
   "metadata": {},
   "source": [
    "상당히 단순한 접근방식은 약 87%의 정확도를 달성한다."
   ]
  },
  {
   "cell_type": "markdown",
   "id": "f43565d9",
   "metadata": {},
   "source": [
    "### 1-9 정확도와 손실 그래프 그리기"
   ]
  },
  {
   "cell_type": "markdown",
   "id": "349bb736",
   "metadata": {},
   "source": [
    "```model.fit()```은 훈련 중에 발생한 모든 것을 가진 사전을 포함하는 ```History``` 객체를 반환한다."
   ]
  },
  {
   "cell_type": "code",
   "execution_count": 27,
   "id": "7704b353",
   "metadata": {},
   "outputs": [
    {
     "data": {
      "text/plain": [
       "dict_keys(['loss', 'binary_accuracy', 'val_loss', 'val_binary_accuracy'])"
      ]
     },
     "execution_count": 27,
     "metadata": {},
     "output_type": "execute_result"
    }
   ],
   "source": [
    "history_dict = history.history\n",
    "history_dict.keys()"
   ]
  },
  {
   "cell_type": "markdown",
   "id": "18b8e205",
   "metadata": {},
   "source": [
    "훈련과 검증 단계에서 모니터링 하는 지표 4개의 항목이 있다.<br/>\n",
    "훈련 손실과 검증 손실을 그래프로 그려보고, 훈련 정확도와 검증 정확도도 그래프로 그려 비교해보자."
   ]
  },
  {
   "cell_type": "code",
   "execution_count": 28,
   "id": "5c5cb97b",
   "metadata": {},
   "outputs": [
    {
     "data": {
      "image/png": "[encoded data removed]",
      "text/plain": [
       "<Figure size 640x480 with 1 Axes>"
      ]
     },
     "metadata": {},
     "output_type": "display_data"
    }
   ],
   "source": [
    "acc = history_dict['binary_accuracy']\n",
    "val_acc = history_dict['val_binary_accuracy']\n",
    "loss = history_dict['loss']\n",
    "val_loss = history_dict['val_loss']\n",
    "\n",
    "epochs = range(1, len(acc) + 1)\n",
    "\n",
    "plt.plot(epochs, loss, 'bo', label='Training Loss')\n",
    "plt.plot(epochs, val_loss, 'b', label='Validation Loss')\n",
    "plt.title('Training and Validation Loss')\n",
    "plt.xlabel('Epochs')\n",
    "plt.ylabel('Loss')\n",
    "plt.legend()\n",
    "\n",
    "plt.show()"
   ]
  },
  {
   "cell_type": "code",
   "execution_count": 29,
   "id": "1ab2b194",
   "metadata": {},
   "outputs": [
    {
     "data": {
      "image/png": "[encoded data removed]",
      "text/plain": [
       "<Figure size 640x480 with 1 Axes>"
      ]
     },
     "metadata": {},
     "output_type": "display_data"
    }
   ],
   "source": [
    "plt.plot(epochs, acc, 'bo', label='Training acc')\n",
    "plt.plot(epochs, val_acc, 'b', label='Validation acc')\n",
    "plt.title('Training and validation accuracy')\n",
    "plt.xlabel('Epochs')\n",
    "plt.ylabel('Accuracy')\n",
    "plt.legend()\n",
    "\n",
    "plt.show()"
   ]
  },
  {
   "cell_type": "markdown",
   "id": "ba2f0876",
   "metadata": {},
   "source": [
    "위 그래프들에서 점선은 훈련 손실과 훈련 정확도를 나타내고, 실선은 검증 손실과 검증 정확도를 나타낸다."
   ]
  },
  {
   "cell_type": "markdown",
   "id": "f53b880d",
   "metadata": {},
   "source": [
    "훈련 손실은 각 epoch마다 감소하고 훈련 정확도는 각 epoch마다 증가한다.<br/>\n",
    "하지만 <span style='background-color:#fff5b1'>과대적합 때문에 검증 손실과 검증 정확도가 빠르게 향상되지 않는다.</span><br/>\n",
    "이전에 본 적 없는 데이터보다 훈련 데이터에서 모델이 더 잘 동작한다.<br/>\n",
    "<span style='background-color:#fff5b1'>이 지점부터는 모델이 과도하게 최적화되어 테스트 데이터에서 일반화되지 않는 훈련 데이터의 특정 표현을 학습한다.</span>"
   ]
  },
  {
   "cell_type": "markdown",
   "id": "9d9bc8e3",
   "metadata": {},
   "source": [
    "여기에서는 과대적합을 막기 위해 단순히 검증 정확도가 더이상 증가하지 않는 경우에 훈련을 중단할 수 있다.<br/>\n",
    "이를 수행하는 한 가지 방법은 [```tf.keras.callbacks.EarlyStopping```](https://www.tensorflow.org/api_docs/python/tf/keras/callbacks/EarlyStopping?hl=ko) 콜백을 사용하는 것이다."
   ]
  },
  {
   "cell_type": "markdown",
   "id": "a1c4de97",
   "metadata": {},
   "source": [
    "### 1-10 모델 내보내기"
   ]
  },
  {
   "cell_type": "markdown",
   "id": "1e259402",
   "metadata": {},
   "source": [
    "위의 코드에서는 모델에 텍스트를 제공하기 전에 ```TextVectorization``` 레이어를 데이터세트에 적용했다.<br/>\n",
    "모델이 원시 문자열을 처리할 수 있도록 하려면(배포를 단순화하기 위해) 모델 내부에 ```TextVectorization``` 레이어를 포함할 수 있다.<br/>\n",
    "이를 위해 방금 훈련한 가중치를 사용하여 새 모델을 만들 수 있다."
   ]
  },
  {
   "cell_type": "code",
   "execution_count": 30,
   "id": "fa2b9fc5",
   "metadata": {},
   "outputs": [
    {
     "name": "stdout",
     "output_type": "stream",
     "text": [
      "782/782 [==============================] - 5s 6ms/step - loss: 0.3130 - accuracy: 0.8718\n",
      "0.8718000054359436\n"
     ]
    }
   ],
   "source": [
    "export_model = tf.keras.Sequential([\n",
    "    vectorize_layer,\n",
    "    model,\n",
    "    layers.Activation('sigmoid')\n",
    "])\n",
    "\n",
    "export_model.compile(loss=losses.BinaryCrossentropy(from_logits=False),\n",
    "                     optimizer='adam',\n",
    "                     metrics=['accuracy'])\n",
    "\n",
    "loss, accuracy = export_model.evaluate(raw_test_ds)\n",
    "print(accuracy)"
   ]
  },
  {
   "cell_type": "markdown",
   "id": "03f580a6",
   "metadata": {},
   "source": [
    "### 1-11 새로운 데이터로 추론하기"
   ]
  },
  {
   "cell_type": "markdown",
   "id": "8a0aa32c",
   "metadata": {},
   "source": [
    "새로운 예에 대한 예측을 얻을라면 간단히 ```model.predict()```를 호출하면 된다."
   ]
  },
  {
   "cell_type": "code",
   "execution_count": 31,
   "id": "ed8ffd58",
   "metadata": {},
   "outputs": [
    {
     "data": {
      "text/plain": [
       "array([[0.6348033 ],\n",
       "       [0.46174204],\n",
       "       [0.37344804]], dtype=float32)"
      ]
     },
     "execution_count": 31,
     "metadata": {},
     "output_type": "execute_result"
    }
   ],
   "source": [
    "examples = [\n",
    "  \"The movie was great!\",\n",
    "  \"The movie was okay.\",\n",
    "  \"The movie was terrible...\"\n",
    "]\n",
    "\n",
    "export_model.predict(examples)"
   ]
  },
  {
   "cell_type": "markdown",
   "id": "507afcef",
   "metadata": {},
   "source": [
    "모델 내부에 텍스트 전처리 논리를 포함하면 배포를 단순화하고 [훈련/테스트 왜곡](https://developers.google.com/machine-learning/guides/rules-of-ml?hl=ko#training-serving_skew) 가능성을 줄이는 프로덕션용 모델을 내보낼 수 있다."
   ]
  },
  {
   "cell_type": "markdown",
   "id": "1d98d46b",
   "metadata": {},
   "source": [
    "TextVectorization 레이어를 적용할 위치를 선택할 때 염두에 두어야 할 성능 차이가 있다.<br/>\n",
    "레이어를 모델 외부에서 사용하면 GPU에서 훈련할 때 비동기 CPU 처리 및 데이터 버퍼링을 수행할 수 있다.<br/>\n",
    "따라서 GPU에서 모델을 훈련하는 경우 모델을 개발하는 동안 최상의 성능을 얻기 위해 이 옵션을 사용하고<br/>\n",
    "배포 준비가 완료되면 모델 내부에 TextVectorization 레이어를 포함하도록 전환할 수 있다."
   ]
  },
  {
   "cell_type": "markdown",
   "id": "b8882611",
   "metadata": {},
   "source": [
    "모델 저장에 대해 자세히 알아보려면 이 [튜토리얼](https://www.tensorflow.org/tutorials/keras/save_and_load?hl=ko)을 방문해보자."
   ]
  }
 ],
 "metadata": {
  "kernelspec": {
   "display_name": "Python 3 (ipykernel)",
   "language": "python",
   "name": "python3"
  },
  "language_info": {
   "codemirror_mode": {
    "name": "ipython",
    "version": 3
   },
   "file_extension": ".py",
   "mimetype": "text/x-python",
   "name": "python",
   "nbconvert_exporter": "python",
   "pygments_lexer": "ipython3",
   "version": "3.8.10"
  }
 },
 "nbformat": 4,
 "nbformat_minor": 5
}
