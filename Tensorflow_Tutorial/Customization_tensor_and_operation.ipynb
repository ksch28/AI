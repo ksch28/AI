{
 "cells": [
  {
   "cell_type": "markdown",
   "id": "6d8b7f4a",
   "metadata": {},
   "source": [
    "# 텐서와 연산"
   ]
  },
  {
   "cell_type": "markdown",
   "id": "b90f4326",
   "metadata": {},
   "source": [
    "이 노트북은 다음 내용을 다룬다.\n",
    "* 필요한 패키지를 가져온다.\n",
    "* 텐서를 만들고 사용한다.\n",
    "* GPU 가속을 사용한다.\n",
    "* ```tf.data.Dataset```으로 데이터 파이프라인을 구축한다."
   ]
  },
  {
   "cell_type": "code",
   "execution_count": 1,
   "id": "c29f8b3f",
   "metadata": {},
   "outputs": [],
   "source": [
    "from silence_tensorflow import silence_tensorflow\n",
    "silence_tensorflow()\n",
    "\n",
    "import tensorflow as tf\n",
    "config = tf.compat.v1.ConfigProto(\n",
    "gpu_options=tf.compat.v1.GPUOptions(\n",
    "    per_process_gpu_memory_fraction=0.8\n",
    "))\n",
    "        \n",
    "sess = tf.compat.v1.Session(config=config)"
   ]
  },
  {
   "cell_type": "markdown",
   "id": "46fc1144",
   "metadata": {},
   "source": [
    "## 1. 텐서"
   ]
  },
  {
   "cell_type": "markdown",
   "id": "cc35d668",
   "metadata": {},
   "source": [
    "텐서는 다차원 배열이다. NumPy의 ```ndarray``` 객체와 유사하게 ```tf.Tensor``` 객체에는 데이터 유형과 형상이 있다. 또한 ```tf.Tensor```는 가속기 메모리에 상주할 수 있다.<br/>\n",
    "TensorFlow는 ```tf.Tensor```를 소비하고 생성하는 풍부한 라이브러리 연산을 제공한다.(```tf.math.add```, ```tf.linalg.matmul```, ```tf.linalg.inv``` 등)<br/>\n",
    "이러한 연산은 내장 Python 유형을 자동으로 변환한다."
   ]
  },
  {
   "cell_type": "code",
   "execution_count": 3,
   "id": "6c3bc35a",
   "metadata": {},
   "outputs": [
    {
     "name": "stdout",
     "output_type": "stream",
     "text": [
      "tf.Tensor(3, shape=(), dtype=int32)\n"
     ]
    }
   ],
   "source": [
    "import tensorflow as tf"
   ]
  },
  {
   "cell_type": "code",
   "execution_count": 4,
   "id": "447e1e91",
   "metadata": {},
   "outputs": [
    {
     "name": "stdout",
     "output_type": "stream",
     "text": [
      "tf.Tensor(3, shape=(), dtype=int32)\n",
      "tf.Tensor([4 6], shape=(2,), dtype=int32)\n",
      "tf.Tensor(25, shape=(), dtype=int32)\n",
      "tf.Tensor(6, shape=(), dtype=int32)\n",
      "tf.Tensor(13, shape=(), dtype=int32)\n"
     ]
    }
   ],
   "source": [
    "print(tf.math.add(1, 2))\n",
    "print(tf.math.add([1, 2], [3, 4]))\n",
    "print(tf.math.square(5))\n",
    "print(tf.math.reduce_sum([1, 2, 3]))\n",
    "print(tf.math.square(2) + tf.math.square(3))"
   ]
  },
  {
   "cell_type": "markdown",
   "id": "de0a9f88",
   "metadata": {},
   "source": [
    "각각 ```tf.Tensor``` 모양과 데이터 타입을 가지고 있다."
   ]
  },
  {
   "cell_type": "code",
   "execution_count": 5,
   "id": "d2726d38",
   "metadata": {},
   "outputs": [
    {
     "name": "stdout",
     "output_type": "stream",
     "text": [
      "tf.Tensor([[2 3]], shape=(1, 2), dtype=int32)\n",
      "(1, 2)\n",
      "<dtype: 'int32'>\n"
     ]
    }
   ],
   "source": [
    "x = tf.linalg.matmul([[1]], [[2, 3]])\n",
    "print(x)\n",
    "print(x.shape)\n",
    "print(x.dtype)"
   ]
  },
  {
   "cell_type": "markdown",
   "id": "6416da91",
   "metadata": {},
   "source": [
    "NumPy 배열과 ```tf.Tensor```의 차이는 다음과 같다.\n",
    "1. 텐서는 가속기 메모리(GPU, TPU와 같은)에서 사용할 수 있다.\n",
    "2. ```Tensor```는 불변성(immutable)을 가진다."
   ]
  },
  {
   "cell_type": "markdown",
   "id": "475abaad",
   "metadata": {},
   "source": [
    "텐서는 ```.numpy()``` 메서드를 호출하여 NumPy 배열로 변환할 수 있다.<br/>\n",
    "가능한 경우, ```tf.Tensor```와 배열은 메모리 표현을 공유하기 때문에 이러한 변환은 일반적으로 저렴하다.<br/>\n",
    "그러나 ```tf.Tensor```는 GPU 메모리에 저장될 수 있고, NumPy 배열은 항상 호스트 메모리에 저장되므로, 이러한 변환이 항상 가능한 것은 아니다.<br/>\n",
    "따라서 GPU에서 호스트 메모리로 복사가 필요하다."
   ]
  },
  {
   "cell_type": "code",
   "execution_count": 11,
   "id": "f9985b47",
   "metadata": {},
   "outputs": [
    {
     "name": "stdout",
     "output_type": "stream",
     "text": [
      "TensorFlow operations convert numpy arrays to Tensors automatically\n",
      "\n",
      "tf.Tensor(\n",
      "[[42. 42. 42.]\n",
      " [42. 42. 42.]\n",
      " [42. 42. 42.]], shape=(3, 3), dtype=float64)\n",
      "\n",
      "And NumPy operations convert Tensors to NumPy arrays automatically\n",
      "\n",
      "[[43. 43. 43.]\n",
      " [43. 43. 43.]\n",
      " [43. 43. 43.]]\n",
      "\n",
      "The .numpy() method explicitly converts a Tensor to a numpy array\n",
      "\n",
      "[[42. 42. 42.]\n",
      " [42. 42. 42.]\n",
      " [42. 42. 42.]]\n"
     ]
    }
   ],
   "source": [
    "import numpy as np\n",
    "\n",
    "ndarray = np.ones([3, 3])\n",
    "\n",
    "print('TensorFlow operations convert numpy arrays to Tensors automatically\\n')\n",
    "tensor = tf.math.multiply(ndarray, 42)\n",
    "print(tensor)\n",
    "\n",
    "print(\"\\nAnd NumPy operations convert Tensors to NumPy arrays automatically\\n\")\n",
    "print(np.add(tensor, 1))\n",
    "\n",
    "print(\"\\nThe .numpy() method explicitly converts a Tensor to a numpy array\\n\")\n",
    "print(tensor.numpy())"
   ]
  },
  {
   "cell_type": "markdown",
   "id": "dc71a4b9",
   "metadata": {},
   "source": [
    "## 2. GPU 가속"
   ]
  },
  {
   "cell_type": "markdown",
   "id": "7482593a",
   "metadata": {},
   "source": [
    "대부분의 TensorFlow 연산은 GPU를 사용하여 가속화된다.<br/>\n",
    "어떠한 코드를 명시하지 않아도, TensorFlow는 연산을 위해 CPU 또는 GPU를 사용할 것인지를 자동으로 결정한다.<br/>\n",
    "필요 시 텐서를 CPU와 GPU 메모리 사이에서 복사한다. 연산에 의해 생성된 텐서는 전형적으로 연산이 실행된 장치의 메모리에 의해 실행된다."
   ]
  },
  {
   "cell_type": "code",
   "execution_count": 12,
   "id": "8237b1b3",
   "metadata": {},
   "outputs": [
    {
     "name": "stdout",
     "output_type": "stream",
     "text": [
      "Is there a GPU available: \n",
      "[PhysicalDevice(name='/physical_device:GPU:0', device_type='GPU')]\n",
      "Is the Tensor on GPU #0:  \n",
      "True\n"
     ]
    }
   ],
   "source": [
    "x = tf.random.uniform([3, 3])\n",
    "\n",
    "print(\"Is there a GPU available: \"),\n",
    "print(tf.config.list_physical_devices(\"GPU\"))\n",
    "\n",
    "print(\"Is the Tensor on GPU #0:  \"),\n",
    "print(x.device.endswith('GPU:0'))"
   ]
  },
  {
   "cell_type": "code",
   "execution_count": null,
   "id": "3a87b6cf",
   "metadata": {},
   "outputs": [],
   "source": []
  }
 ],
 "metadata": {
  "kernelspec": {
   "display_name": "Python 3 (ipykernel)",
   "language": "python",
   "name": "python3"
  },
  "language_info": {
   "codemirror_mode": {
    "name": "ipython",
    "version": 3
   },
   "file_extension": ".py",
   "mimetype": "text/x-python",
   "name": "python",
   "nbconvert_exporter": "python",
   "pygments_lexer": "ipython3",
   "version": "3.8.10"
  }
 },
 "nbformat": 4,
 "nbformat_minor": 5
}
