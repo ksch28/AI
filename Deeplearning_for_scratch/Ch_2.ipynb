{
 "cells": [
  {
   "cell_type": "markdown",
   "id": "52a8b071",
   "metadata": {},
   "source": [
    "# 2.3 Perceptron 구현"
   ]
  },
  {
   "cell_type": "code",
   "execution_count": 1,
   "id": "17140ff4",
   "metadata": {},
   "outputs": [
    {
     "data": {
      "text/html": [
       "<style>\n",
       "table {float:left}\n",
       "</style>\n"
      ],
      "text/plain": [
       "<IPython.core.display.HTML object>"
      ]
     },
     "metadata": {},
     "output_type": "display_data"
    }
   ],
   "source": [
    "%%html\n",
    "<style>\n",
    "table {float:left}\n",
    "</style>"
   ]
  },
  {
   "cell_type": "markdown",
   "id": "82a94e9d",
   "metadata": {},
   "source": [
    "## 2.3.1 간단한 구현"
   ]
  },
  {
   "cell_type": "code",
   "execution_count": 2,
   "id": "01e65453",
   "metadata": {},
   "outputs": [],
   "source": [
    "def AND(x1, x2):\n",
    "    w1, w2, theta = 0.5, 0.5, 0.7\n",
    "    tmp = x1*w1 + x2*w2\n",
    "    if tmp <= theta:\n",
    "        return 0\n",
    "    else:\n",
    "        return 1"
   ]
  },
  {
   "cell_type": "code",
   "execution_count": 3,
   "id": "4a90f036",
   "metadata": {},
   "outputs": [
    {
     "data": {
      "text/plain": [
       "(0, 0, 0, 1)"
      ]
     },
     "execution_count": 3,
     "metadata": {},
     "output_type": "execute_result"
    }
   ],
   "source": [
    "AND(0, 0), AND(0, 1), AND(1, 0), AND(1, 1)"
   ]
  },
  {
   "cell_type": "markdown",
   "id": "26b16804",
   "metadata": {},
   "source": [
    "## 2.3.2 가중치(Weight)와 편향(Bias) 도입"
   ]
  },
  {
   "cell_type": "code",
   "execution_count": 4,
   "id": "b7bab39a",
   "metadata": {},
   "outputs": [
    {
     "data": {
      "text/plain": [
       "(array([0. , 0.5]), 0.5, -0.19999999999999996)"
      ]
     },
     "execution_count": 4,
     "metadata": {},
     "output_type": "execute_result"
    }
   ],
   "source": [
    "import numpy as np\n",
    "\n",
    "x = np.array([0, 1]) # input\n",
    "w = np.array([0.5, 0.5]) # weight\n",
    "b = -0.7 # bias\n",
    "\n",
    "w*x, np.sum(x*w), np.sum(w*x) + b"
   ]
  },
  {
   "cell_type": "markdown",
   "id": "847b1826",
   "metadata": {},
   "source": [
    "## 2.3.3 가중치와 편향 구현"
   ]
  },
  {
   "cell_type": "code",
   "execution_count": 5,
   "id": "3822a630",
   "metadata": {},
   "outputs": [
    {
     "data": {
      "text/plain": [
       "(0, 0, 0, 1)"
      ]
     },
     "execution_count": 5,
     "metadata": {},
     "output_type": "execute_result"
    }
   ],
   "source": [
    "def AND(x1, x2):\n",
    "    x = np.array([x1, x2])\n",
    "    w = np.array([0.5, 0.5])\n",
    "    b = -0.7\n",
    "    tmp = np.sum(x*w) + b\n",
    "    \n",
    "    if tmp <= 0:\n",
    "        return 0\n",
    "    else:\n",
    "        return 1\n",
    "\n",
    "AND(0, 0), AND(0, 1), AND(1, 0), AND(1, 1)"
   ]
  },
  {
   "cell_type": "markdown",
   "id": "e1af66c2",
   "metadata": {},
   "source": [
    "### $\\to$ 여기서 -$\\theta$가 편향 b로 치환"
   ]
  },
  {
   "cell_type": "code",
   "execution_count": 6,
   "id": "07ce7c97",
   "metadata": {},
   "outputs": [
    {
     "data": {
      "text/plain": [
       "(1, 1, 1, 0)"
      ]
     },
     "execution_count": 6,
     "metadata": {},
     "output_type": "execute_result"
    }
   ],
   "source": [
    "def NAND(x1, x2):\n",
    "    x = np.array([x1, x2])\n",
    "    w = np.array([-0.5, -0.5])\n",
    "    b = 0.7\n",
    "    tmp = np.sum(x*w) + b\n",
    "    \n",
    "    if tmp <= 0:\n",
    "        return 0\n",
    "    else:\n",
    "        return 1\n",
    "\n",
    "NAND(0, 0), NAND(0, 1), NAND(1, 0), NAND(1, 1)"
   ]
  },
  {
   "cell_type": "markdown",
   "id": "10ab0157",
   "metadata": {},
   "source": [
    "### $\\to$ NAND와 AND는 w와 b가 다름."
   ]
  },
  {
   "cell_type": "code",
   "execution_count": 7,
   "id": "8048802a",
   "metadata": {},
   "outputs": [
    {
     "data": {
      "text/plain": [
       "(0, 1, 1, 1)"
      ]
     },
     "execution_count": 7,
     "metadata": {},
     "output_type": "execute_result"
    }
   ],
   "source": [
    "def OR(x1, x2):\n",
    "    x = np.array([x1, x2])\n",
    "    w = np.array([0.5, 0.5])\n",
    "    b = -0.2\n",
    "    tmp = np.sum(x*w) + b\n",
    "    \n",
    "    if tmp <= 0:\n",
    "        return 0\n",
    "    else:\n",
    "        return 1\n",
    "    \n",
    "OR(0, 0), OR(0, 1), OR(1, 0), OR(1, 1)"
   ]
  },
  {
   "cell_type": "markdown",
   "id": "1eb76de8",
   "metadata": {},
   "source": [
    "### $\\to$ AND와는 b만 다름."
   ]
  },
  {
   "cell_type": "markdown",
   "id": "e7981cce",
   "metadata": {},
   "source": [
    "# 2.4 Perceptron의 한계"
   ]
  },
  {
   "cell_type": "markdown",
   "id": "f367da13",
   "metadata": {},
   "source": [
    "## 2.4.1 XOR GATE"
   ]
  },
  {
   "cell_type": "markdown",
   "id": "dda3d646",
   "metadata": {},
   "source": [
    "|x1|x2|y|\n",
    "|:-:|:-:|:-:|\n",
    "|0|0|0|\n",
    "|1|0|1|\n",
    "|0|1|1|\n",
    "|0|0|0|\n",
    "\n"
   ]
  },
  {
   "cell_type": "markdown",
   "id": "088f7f05",
   "metadata": {},
   "source": [
    "### $\\to$ (우리가 알고있는 바로는)구현 불가능"
   ]
  },
  {
   "cell_type": "markdown",
   "id": "6134a629",
   "metadata": {},
   "source": [
    "# 2.5 다층 퍼셉트론"
   ]
  },
  {
   "cell_type": "markdown",
   "id": "18c42604",
   "metadata": {},
   "source": [
    "## 2.5.1 기존 게이트 조합"
   ]
  },
  {
   "cell_type": "markdown",
   "id": "bb5cb8b9",
   "metadata": {},
   "source": [
    "### $\\to$ NAND의 출력을 $s_1$, OR의 출력을 $s_2$"
   ]
  },
  {
   "cell_type": "markdown",
   "id": "88544028",
   "metadata": {},
   "source": [
    "|x1|x2|s1|s2|y|\n",
    "|:-:|:-:|:-:|:-:|:-:|\n",
    "|0|0|1|0|0|\n",
    "|1|0|1|1|1|\n",
    "|0|1|1|1|1|\n",
    "|1|1|0|1|0|\n"
   ]
  },
  {
   "cell_type": "markdown",
   "id": "4e99ac53",
   "metadata": {},
   "source": [
    "## 2.5.2 XOR 게이트 구현"
   ]
  },
  {
   "cell_type": "code",
   "execution_count": 8,
   "id": "0464877a",
   "metadata": {},
   "outputs": [
    {
     "data": {
      "text/plain": [
       "(0, 1, 1, 0)"
      ]
     },
     "execution_count": 8,
     "metadata": {},
     "output_type": "execute_result"
    }
   ],
   "source": [
    "def XOR(x1, x2):\n",
    "    s1 = NAND(x1, x2)\n",
    "    s2 = OR(x1, x2)\n",
    "    y = AND(s1, s2)\n",
    "    return y\n",
    "\n",
    "XOR(0, 0), XOR(0, 1), XOR(1, 0), XOR(1, 1)"
   ]
  }
 ],
 "metadata": {
  "kernelspec": {
   "display_name": "Python 3 (ipykernel)",
   "language": "python",
   "name": "python3"
  },
  "language_info": {
   "codemirror_mode": {
    "name": "ipython",
    "version": 3
   },
   "file_extension": ".py",
   "mimetype": "text/x-python",
   "name": "python",
   "nbconvert_exporter": "python",
   "pygments_lexer": "ipython3",
   "version": "3.8.10"
  }
 },
 "nbformat": 4,
 "nbformat_minor": 5
}
