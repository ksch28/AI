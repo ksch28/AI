{
 "cells": [
  {
   "cell_type": "markdown",
   "id": "c221152b",
   "metadata": {},
   "source": [
    "# 5. 오차역전파법(역전파)"
   ]
  },
  {
   "cell_type": "markdown",
   "id": "c4235040",
   "metadata": {},
   "source": [
    "* 앞 장에서는 신경망 학습을 할 때 가중치 매개변수에 대한 손실 함수의 기울기는 수치 미분을 사용해 구했다.\n",
    "* 수치 미분은 단순하고 구현하기도 쉽지만, 계산 시간이 오래 걸린다는 단점이 있다.\n",
    "* 이번 장에서는 가중치 매개변수의 기울기를 효율적으로 계산하는 <span style='color:blue'>오차역전파법(backpropagation)</span>을 배워보자."
   ]
  },
  {
   "cell_type": "markdown",
   "id": "c2b9ce2e",
   "metadata": {},
   "source": [
    "## 5.4 단순한 계층 구현하기"
   ]
  },
  {
   "cell_type": "markdown",
   "id": "1d076076",
   "metadata": {},
   "source": [
    "* 계산그래프의 곱셈 노드를 'MulLayer' 덧셈 노드를 'AddLayer'라는 이름으로 구현해보자."
   ]
  },
  {
   "cell_type": "markdown",
   "id": "51310e6f",
   "metadata": {},
   "source": [
    "### 5.4.1 곱셈 계층"
   ]
  },
  {
   "cell_type": "code",
   "execution_count": 1,
   "id": "7f8f8eca",
   "metadata": {},
   "outputs": [
    {
     "name": "stdout",
     "output_type": "stream",
     "text": [
      "220.00000000000003 \n",
      " ------------------------------\n",
      "2.2 110.00000000000001 200\n"
     ]
    }
   ],
   "source": [
    "class MulLayer:\n",
    "    def __init__(self):\n",
    "        self.x = None\n",
    "        self.y = None\n",
    "    \n",
    "    def forward(self, x, y):\n",
    "        self.x = x\n",
    "        self.y = y\n",
    "        out = x*y\n",
    "        \n",
    "        return out\n",
    "    \n",
    "    def backward(self, dout):\n",
    "        dx = dout * self.y\n",
    "        dy = dout * self.x\n",
    "        \n",
    "        return dx, dy\n",
    "    \n",
    "apple = 100\n",
    "apple_num = 2\n",
    "tax = 1.1\n",
    "\n",
    "mul_apple_layer = MulLayer()\n",
    "mul_tax_layer = MulLayer()\n",
    "\n",
    "# 순전파\n",
    "apple_price = mul_apple_layer.forward(apple, apple_num)\n",
    "price = mul_tax_layer.forward(apple_price, tax)\n",
    "\n",
    "print(price, '\\n', '-'*30)\n",
    "\n",
    "# 역전파\n",
    "dprice = 1\n",
    "\n",
    "dapple_price, dtax = mul_tax_layer.backward(dprice)\n",
    "dapple, dapple_num = mul_apple_layer.backward(dapple_price)\n",
    "\n",
    "print(dapple, dapple_num, dtax)"
   ]
  },
  {
   "cell_type": "markdown",
   "id": "a45b9e98",
   "metadata": {},
   "source": [
    "### 5.4.2 덧셈 계층"
   ]
  },
  {
   "cell_type": "code",
   "execution_count": 2,
   "id": "97e6064a",
   "metadata": {},
   "outputs": [],
   "source": [
    "class AddLayer:\n",
    "    def __init__(self):\n",
    "        pass\n",
    "    \n",
    "    def forward(self, x, y):\n",
    "        out = x + y\n",
    "        \n",
    "        return out\n",
    "    \n",
    "    def backward(self, dout):\n",
    "        dx = dout * 1\n",
    "        dy = dout * 1\n",
    "        \n",
    "        return dx, dy"
   ]
  },
  {
   "cell_type": "markdown",
   "id": "7d580706",
   "metadata": {},
   "source": [
    "* 덧셈 계층과 곱셈 계층을 사용하여 사과 2개와 귤 3개를 사는 상황을 구현해보자."
   ]
  },
  {
   "cell_type": "code",
   "execution_count": 3,
   "id": "fd17c45c",
   "metadata": {},
   "outputs": [
    {
     "name": "stdout",
     "output_type": "stream",
     "text": [
      "715.0000000000001\n",
      "2.2 | 110.00000000000001 | 3.3000000000000003 | 165.0 | 650\n"
     ]
    }
   ],
   "source": [
    "apple = 100\n",
    "apple_num = 2\n",
    "orange = 150\n",
    "orange_num = 3\n",
    "\n",
    "mul_apple_layer = MulLayer()\n",
    "mul_orange_layer = MulLayer()\n",
    "add_apple_orange_layer = AddLayer()\n",
    "mul_tax_layer = MulLayer()\n",
    "\n",
    "# 순전파\n",
    "apple_price = mul_apple_layer.forward(apple, apple_num)\n",
    "orange_price = mul_orange_layer.forward(orange, orange_num)\n",
    "all_price = add_apple_orange_layer.forward(apple_price, orange_price)\n",
    "price = mul_tax_layer.forward(all_price, tax)\n",
    "\n",
    "# 역전파\n",
    "dprice = 1\n",
    "dall_price, dtax = mul_tax_layer.backward(dprice)\n",
    "dapple_price,  dorange_price = add_apple_orange_layer.backward(dall_price)\n",
    "dapple, dapple_num = mul_apple_layer.backward(dapple_price)\n",
    "dorange, dorange_num = mul_orange_layer.backward(dorange_price)\n",
    "\n",
    "print(price)\n",
    "print(dapple,'|',dapple_num,'|',dorange,'|',dorange_num,'|',dtax)"
   ]
  },
  {
   "cell_type": "markdown",
   "id": "a7337e2d",
   "metadata": {},
   "source": [
    "## 5.5 활성화 함수 계층 구현하기"
   ]
  },
  {
   "cell_type": "markdown",
   "id": "e9368fdc",
   "metadata": {},
   "source": [
    "* ReLU와 Sigmoid 계층을 구현해보자."
   ]
  },
  {
   "cell_type": "markdown",
   "id": "1c6924bd",
   "metadata": {},
   "source": [
    "### 5.5.1 ReLU 계층"
   ]
  },
  {
   "cell_type": "markdown",
   "id": "f6a400d0",
   "metadata": {},
   "source": [
    "### $y = \\begin{cases}x & {(x > 0)} \\\\ 0 & {(x \\le 0)}\\end{cases}$<br/>\n",
    "* 위 식에 대한 미분은 아래와 같다.<br/>\n",
    "### ${\\partial{y}\\over\\partial{x}} = {\\begin{cases}1 & {(x > 0)} \\\\ 0 & {(x \\le 0)}\\end{cases}}$<br/>\n",
    "* 계산그래프로는 아래와 같다.<br/>\n",
    "<img src=\"https://velog.velcdn.com/images%2Fkimkihoon0515%2Fpost%2Ff094bb3f-c425-4390-b715-be429399b5a4%2Fimage.png\" align=\"left\" height=\"800px\" width=\"500px\">"
   ]
  },
  {
   "cell_type": "markdown",
   "id": "aa10b1a4",
   "metadata": {},
   "source": [
    "* 이제 ReLU 계층을 구현해보자."
   ]
  },
  {
   "cell_type": "code",
   "execution_count": 4,
   "id": "9abbf3dd",
   "metadata": {},
   "outputs": [
    {
     "name": "stdout",
     "output_type": "stream",
     "text": [
      "[[ 1.  -0.5]\n",
      " [-2.   3. ]] \n",
      " --------------------\n",
      "[[False  True]\n",
      " [ True False]]\n"
     ]
    }
   ],
   "source": [
    "import numpy as np\n",
    "\n",
    "class ReLU:\n",
    "    def __init__(self):\n",
    "        self.mask = None\n",
    "    \n",
    "    def forward(self, x):\n",
    "        self.mask = (x <= 0)\n",
    "        out = x.copy()\n",
    "        out[self.mask] = 0\n",
    "        \n",
    "        return out\n",
    "    \n",
    "    def backward(self, dout):\n",
    "        dout[self.mask] = 0\n",
    "        dx = dout\n",
    "        \n",
    "        return dx\n",
    "    \n",
    "x = np.array([[1.0, -0.5], [-2.0, 3.0]])\n",
    "print(x, '\\n', '-'*20)\n",
    "\n",
    "mask = (x <= 0)\n",
    "print(mask)"
   ]
  },
  {
   "cell_type": "markdown",
   "id": "05a00853",
   "metadata": {},
   "source": [
    "* ReLU 클래스는 mask라는 인스턴스 변수를 가진다.\n",
    "* mask는 True/False로 구성된 넘파이 배열로, 순전파의 입력인 x의 원소값이 0 이하인 인덱스는 True로, 그 외는 False로 유지한다."
   ]
  },
  {
   "cell_type": "markdown",
   "id": "07ec0756",
   "metadata": {},
   "source": [
    "### 5.5.2 Sigmoid 계층"
   ]
  },
  {
   "cell_type": "markdown",
   "id": "28dd245f",
   "metadata": {},
   "source": [
    "* 수식으로는 아래와 같다.<br/>\n",
    "## $y = {1 \\over {1 + e^{-x}}}$ <br/>\n",
    "* 계산 그래프는 아래와 같다.<br/>\n",
    "<img src=\"https://velog.velcdn.com/images%2Flilpark%2Fpost%2F8aef041f-e1b3-4077-aa1a-a1e24054ad43%2Fimage.png\" align=\"left\" height=\"500px\" width=\"500px\">"
   ]
  },
  {
   "cell_type": "markdown",
   "id": "fa7dfc07",
   "metadata": {},
   "source": [
    "* sigmoid 함수의 역전파를 살펴보자."
   ]
  },
  {
   "cell_type": "markdown",
   "id": "60a1e044",
   "metadata": {},
   "source": [
    "#### <span style='background-color:yellow'>1단계</span><br/>\n",
    "* '/' 노드, 즉 $y={1 \\over x}$을 미분하면 다음과 같다.<br/>\n",
    "## ${\\partial y \\over \\partial x} = {-{1 \\over x^2}} = {-y^2}$ <br/>\n",
    "* 위 식에 따르면 역전파 때는 상류에서 하류로 들어온 값에 $-y^2$(순전파의 출력을 제곱한 후 마이너스)을 곱해서 하류로 전달한다. 계산 그래프로는 아래와 같다.<br/>\n",
    "<img src=\"https://velog.velcdn.com/images%2Flilpark%2Fpost%2F866b47c6-155f-4a89-a3c3-73373744b5a9%2Fimage.png\" align=\"left\" height=\"500px\" width=\"500px\">"
   ]
  },
  {
   "cell_type": "markdown",
   "id": "f801349a",
   "metadata": {},
   "source": [
    "#### <span style='background-color:yellow'>2단계</span><br/>\n",
    "* '+' 노드는 상류의 값을 여과없이 하류로 내보낸다. 계산 그래프에서는 다음과 같다.<br/>\n",
    "<img src=\"https://velog.velcdn.com/images%2Flilpark%2Fpost%2F34ef6e35-e205-4015-9de8-087cad876c38%2Fimage.png\" align=\"left\" height=\"500px\" width=\"500px\">"
   ]
  },
  {
   "cell_type": "markdown",
   "id": "a963fa14",
   "metadata": {},
   "source": [
    "#### <span style='background-color:yellow'>3단계</span><br/>\n",
    "* 'exp' 노드는 $y = e^x$ 연산을 수행하며, 그 미분은 다음과 같다.<br/>\n",
    "## ${\\partial{y}\\over\\partial{x}} = {e^x}$<br/>\n",
    "* 계산 그래프에서는 상류의 값에 순전파 때의 출력을 곱해 하류로 전파한다.<br/>\n",
    "<img src=\"https://velog.velcdn.com/images%2Flilpark%2Fpost%2F34d261f3-fa57-4fa4-b37c-d3efdf91a41c%2Fimage.png\" align=\"left\" height=\"500px\" width=\"500px\">"
   ]
  },
  {
   "cell_type": "markdown",
   "id": "7e18efec",
   "metadata": {},
   "source": [
    "#### <span style='background-color:yellow'>4단계</span><br/>\n",
    "* 'x' 노드는 순전파 때의 값을 <span style='color:blue'>서로 바꿔</span> 곱한다.<br/>\n",
    "<img src=\"https://velog.velcdn.com/images%2Flilpark%2Fpost%2Fe4fc1d53-2443-477e-a9b0-3e5a9fae8eb3%2Fimage.png\" align=\"left\" height=\"500px\" width=\"500px\">"
   ]
  },
  {
   "cell_type": "markdown",
   "id": "f73a0106",
   "metadata": {},
   "source": [
    "* 이상으로 Sigmoid 계층의 역전파를 계산 그래프로 완성하였다.\n",
    "* 위 그림에서 보듯이 역전파의 최종 출력인 ${\\partial{L}\\over\\partial{y}}{y^2}{e^{-x}}$ 값이 하류 노트로 전파된다.\n",
    "* 여기서 위 식은 순전파의 입력 $x$와 출력 $y$ 만으로 계산할 수 있으므로, 계산 그래프의 중간과정을 모두 묶어 단순한 'sigmoid' 노드 하나로 대체할 수 있다.\n",
    "<img src=\"https://velog.velcdn.com/images%2Flilpark%2Fpost%2F2b877b61-b267-4852-9022-a9da55c1db00%2Fimage.png\" align=\"left\" height=\"300px\" width=\"300px\">"
   ]
  },
  {
   "cell_type": "markdown",
   "id": "2e6a4219",
   "metadata": {},
   "source": [
    "* 또한, ${\\partial{L}\\over\\partial{y}}{y^2}{e^{-x}}$ 는 다음처럼 정리해서 쓸 수 있다.<br/>\n",
    "## ${\\partial{L}\\over\\partial{y}}{y^2}{e^{-x}}$ = ${\\partial{L}\\over\\partial{y}}{1\\over{(1 + e^{-x})^2}}e^{-x}$ = ${\\partial{L}\\over\\partial{y}}{1\\over{1 + e^{-x}}}{e^{-x}\\over{1 + e^{-x}}}$ = ${\\partial{L}\\over\\partial{y}}{y(1-y)}$<br/>\n",
    "* 이처럼 Sigmoid 계층의 역전파는 순전파의 출력$(y)$만으로 계산할 수 있다."
   ]
  },
  {
   "cell_type": "code",
   "execution_count": 5,
   "id": "1cb10d57",
   "metadata": {},
   "outputs": [],
   "source": [
    "class Sigmoid:\n",
    "    def __init__(self):\n",
    "        self.out = None\n",
    "        \n",
    "    def forward(self, x):\n",
    "        out = 1 / (1 + np.exp(-x))\n",
    "        self.out = out\n",
    "        \n",
    "        return out\n",
    "    \n",
    "    def backward(self, dout):\n",
    "        dx = dout * self.out * (1 - self.out)\n",
    "        \n",
    "        return dx"
   ]
  },
  {
   "cell_type": "markdown",
   "id": "f954773e",
   "metadata": {},
   "source": [
    "## 5.6 Affine/Softmax 계층 구현하기"
   ]
  },
  {
   "cell_type": "markdown",
   "id": "cb5365de",
   "metadata": {},
   "source": [
    "### 5.6.1 Affine 계층"
   ]
  },
  {
   "cell_type": "markdown",
   "id": "e9960cd8",
   "metadata": {},
   "source": [
    "* 신경망의 순전파에서는 가중치 신호의 총합을 계산하기위해 행렬의 곱을 사용.\n",
    "* 신경망의 순전파 때 수행하는 행렬의 곱을 기하학에서는 <span style=\"color:blue\">Affine 변환</span>이라고 한다."
   ]
  },
  {
   "cell_type": "code",
   "execution_count": 6,
   "id": "65e7930e",
   "metadata": {},
   "outputs": [
    {
     "name": "stdout",
     "output_type": "stream",
     "text": [
      "(2,) (2, 3) (3,) \n",
      " ------------------------------\n",
      "[-4.31328586 -1.59568786  4.18814084] (3,)\n"
     ]
    }
   ],
   "source": [
    "import numpy as np\n",
    "\n",
    "X = np.random.randn(2,)\n",
    "W = np.random.randn(2, 3)\n",
    "B = np.random.randn(3)\n",
    "\n",
    "print(X.shape, W.shape, B.shape, '\\n', '-'*30)\n",
    "Y = np.dot(X, W) + B\n",
    "\n",
    "print(Y, Y.shape)"
   ]
  },
  {
   "cell_type": "markdown",
   "id": "ef1031b6",
   "metadata": {},
   "source": [
    "* 계산 그래프로 그려보면 다음과 같다.<br/>\n",
    "<img src=\"https://velog.velcdn.com/images%2Flilpark%2Fpost%2F3e4957c3-2774-40f4-a188-a635cae3c80c%2Fimage.png\" align=\"left\" height=\"300px\" width=\"300px\">"
   ]
  },
  {
   "cell_type": "markdown",
   "id": "18f416d0",
   "metadata": {},
   "source": [
    "* 지금까지의 계산 그래프는 노드 사이에 스칼라값이 흘렀지만, 이 예에서는 <span style='color:blue'>행렬</span>이 흐르고 있다."
   ]
  },
  {
   "cell_type": "markdown",
   "id": "c4981f32",
   "metadata": {},
   "source": [
    "* 이제 역전파에 대해 생각해보자.<br/>\n",
    "<img src=\"https://velog.velcdn.com/images%2Flilpark%2Fpost%2F15b1ed85-ef9f-4748-bc0d-c68cad4365a8%2Fimage.png\" align=\"left\" height=\"500px\" width=\"500px\">"
   ]
  },
  {
   "cell_type": "markdown",
   "id": "5bb77cd0",
   "metadata": {},
   "source": [
    "### 5.6.2 배치용 Affine 계층"
   ]
  },
  {
   "cell_type": "markdown",
   "id": "a093201f",
   "metadata": {},
   "source": [
    "* 지금까지 설명한 Affine 계층은 입력데이터로 $\\mathbf X$ 하나만을 고려한 것이었다.\n",
    "* 이번 절에서는 데이터 N개를 묶어 순전파 하는 경우, 즉 <span style='color:blue'>배치용 Affine 계층</span>을 생각해 보자."
   ]
  },
  {
   "cell_type": "markdown",
   "id": "22d90932",
   "metadata": {},
   "source": [
    "<img src=\"https://velog.velcdn.com/images%2Flilpark%2Fpost%2Fd6d7dc51-82bb-4fac-aa1b-70831aec499c%2Fimage.png\" align=\"left\" height=\"500px\" width=\"600px\">"
   ]
  },
  {
   "cell_type": "markdown",
   "id": "3a359bef",
   "metadata": {},
   "source": [
    "* 기존과 다른 부분은 입력인 $\\mathbf X$의 형상이 (N, 2)가 된 것뿐이다.\n",
    "* 그 뒤로는 지금까지와 같이 계산 그래프의 순서를 따라 행렬 계산을 하게 된다.\n",
    "* 또, 역전파 때는 행렬의 형상에 주의하면 $\\partial{L}\\over\\partial{X}$과 $\\partial{L}\\over\\partial{W}$은 이전과 같이 도출할 수 있다.\n",
    "* 편향을 더할 때도 주의해야 한다.\n",
    "* 순전파 때의 편향 덧셈은 $X\\cdot W$에 대한 편향이 각 데이터에 더해진다.\n",
    "* 예를들어 N = 2인 경우, 편향은 그 두 데이터 각각에 더해진다. 구체적인 예를 보자."
   ]
  },
  {
   "cell_type": "code",
   "execution_count": 7,
   "id": "febc9f9b",
   "metadata": {},
   "outputs": [
    {
     "name": "stdout",
     "output_type": "stream",
     "text": [
      "[[ 0  0  0]\n",
      " [10 10 10]] \n",
      " -------------------- \n",
      " [[ 1  2  3]\n",
      " [11 12 13]]\n"
     ]
    }
   ],
   "source": [
    "X_dot_W = np.array([[0, 0, 0], [10, 10, 10]])\n",
    "B = np.array([1, 2, 3])\n",
    "\n",
    "print(X_dot_W, '\\n', '-'*20, '\\n', X_dot_W + B)"
   ]
  },
  {
   "cell_type": "markdown",
   "id": "0bbdc34c",
   "metadata": {},
   "source": [
    "* 순전파의 편향 덧셈은 각각의 데이터에 더해진다.\n",
    "* 그래서 역전파 때는 각 데이터의 역전파 값이 편향의 원소에 모여야 한다."
   ]
  },
  {
   "cell_type": "code",
   "execution_count": 8,
   "id": "878654b4",
   "metadata": {},
   "outputs": [
    {
     "name": "stdout",
     "output_type": "stream",
     "text": [
      "[[1 2 3]\n",
      " [4 5 6]] \n",
      " -------------------- \n",
      " [5 7 9]\n"
     ]
    }
   ],
   "source": [
    "dY = np.array([[1, 2, 3], [4, 5, 6]])\n",
    "dB = np.sum(dY, axis=0)\n",
    "\n",
    "print(dY, '\\n', '-'*20, '\\n', dB)"
   ]
  },
  {
   "cell_type": "code",
   "execution_count": 9,
   "id": "b7826c6a",
   "metadata": {},
   "outputs": [],
   "source": [
    "class Affine:\n",
    "    def __init__(self, W, b):\n",
    "        self.W = W\n",
    "        self.b = b\n",
    "        self.x = None\n",
    "        self.dW = None\n",
    "        self.dB = None\n",
    "        \n",
    "    def forward(self, x):\n",
    "        self.x = x\n",
    "        out = np.dot(x, self.W) + self.b\n",
    "        \n",
    "        return out\n",
    "    \n",
    "    def backward(self, dout):\n",
    "        dx = np.dot(dout, self.W.T)\n",
    "        self.dW =  np.dot(self.x.T, dout)\n",
    "        self.dB = np.sum(dout, axis=0)\n",
    "        \n",
    "        return dx"
   ]
  },
  {
   "cell_type": "markdown",
   "id": "734efd99",
   "metadata": {},
   "source": [
    "### 5.6.3 Softmax-with-Loss 계층"
   ]
  },
  {
   "cell_type": "markdown",
   "id": "186568c1",
   "metadata": {},
   "source": [
    "* 마지막으로 출력층에서 사용하는 softmax 함수에 대해 알아보자.\n",
    "* softmax 함수는 입력 값을 정규화하여 출력한다.\n",
    "* softmax 계층을 구현 할 때, 손실함수인 교차 엔트로피 오차도 포함하여 <span style='color:blue'>'softmax_with_loss 계층'</span>으로 구현해보자.\n",
    "<img src=\"https://velog.velcdn.com/images%2Flilpark%2Fpost%2Facbf3ae5-e7cf-420e-aaa2-98346d01cd9f%2Fimage.png\" align=\"left\" height=\"500px\" width=\"800px\">"
   ]
  },
  {
   "cell_type": "markdown",
   "id": "d1e7e1ba",
   "metadata": {},
   "source": [
    "* 보다시피 softmax_with_loss 계층은 다소 복잡하다. 위의 계산 그래프를 아래와 같이 간소화 할 수 있다.\n",
    "<img src=\"https://velog.velcdn.com/images%2Flilpark%2Fpost%2F823d0de6-e8e1-40c2-8e51-29a2ebc76b4c%2Fimage.png\" align=\"left\" height=\"500px\" width=\"500px\">"
   ]
  },
  {
   "cell_type": "markdown",
   "id": "34de2775",
   "metadata": {},
   "source": [
    "* 위의 계산 그래프에서 softmax함수는 'Softmax'계층으로, 교차 엔트로피 오차는 'Cross Entropy Error'계층으로 표기했다.\n",
    "* Softmax 계층은 입력 $(a_{1}, a_{2}, a_{3})$를 정규화하여 $(y_{1}, y_{2}, y_{3})$를 출력한다.\n",
    "* Cross Entropy Error 계층은 Softmax의 출력 $(y_{1}, y_{2}, y_{3})$와 정답 레이블 $(t_{1}, t_{2}, t_{3})$를 받고, 이 데이터들로부터 손실 $L$을 출력한다.\n",
    "* 위 계산 그래프에서 주목할 것은 역전파의 결과이다.\n",
    "* Softmax 계층의 역전파는 $({y_{1} - t_{1}}, {y_{2} - t_{2}}, {y_{3} - t_{3}})$ 이라는 말끔한 결과를 내놓고 있다.\n",
    "* 신경망의 역전파에서는 오차(출력과 정답 레이블의 차이)가 앞 계층에 전해진다."
   ]
  },
  {
   "cell_type": "code",
   "execution_count": 10,
   "id": "e52c1495",
   "metadata": {},
   "outputs": [],
   "source": [
    "class SoftmaxWithLoss:\n",
    "    def __init__(self):\n",
    "        self.loss = None\n",
    "        self.y = None\n",
    "        self.t = None\n",
    "        \n",
    "    def forward(self, x, t):\n",
    "        self.t = t\n",
    "        self.y = softmax(x)\n",
    "        self.loss = cross_entropy_error(self.y, self.t)\n",
    "        return self.loss\n",
    "    \n",
    "    def backward(self, dout=1):\n",
    "        batch_size = self.t.shape[0]\n",
    "        dx = (self.y - self.t) / batch_size\n",
    "        \n",
    "        return dx"
   ]
  },
  {
   "cell_type": "markdown",
   "id": "f3179fac",
   "metadata": {},
   "source": [
    "## 5.7 오차역전파법 구현하기"
   ]
  },
  {
   "cell_type": "markdown",
   "id": "6a99b314",
   "metadata": {},
   "source": [
    "### 5.7.1 신경망 학습의 전체 그림"
   ]
  },
  {
   "cell_type": "markdown",
   "id": "d4d75c71",
   "metadata": {},
   "source": [
    "#### <span style='background-color:yellow'>전제</span> <br/>\n",
    "신경망에는 적응 가능한 가중치와 편향이 있고, 이 가중치와 편향을 훈련 데이터에 적응하도록 조정하는 과정을 '학습'이라고 한다.<br/>신경망 학습은 다음과 같이 4단계로 수행한다."
   ]
  },
  {
   "cell_type": "markdown",
   "id": "9d668494",
   "metadata": {},
   "source": [
    "#### <span style='background-color:yellow'>1단계 - 미니배치</span> <br/>\n",
    "훈련데이터 중 일부를 무작위로 가져온다. 이렇게 선별한 배치를 <span style='color:blue'>미니배치</span>라 하며, <br/>그 미니배치의 손실 함수 값을 줄이는 것이 목표이다."
   ]
  },
  {
   "cell_type": "markdown",
   "id": "94d1d28e",
   "metadata": {},
   "source": [
    "#### <span style='background-color:yellow'>2단계 - 기울기 산출</span> <br/>\n",
    "미니배치의 손실 함수 값을 줄이기 위해 각 가중치 매개변수의 기울기를 구한다.<br/>\n",
    "기울기는 손실 함수의 값을 가장 작게 하는 방향을 제시한다"
   ]
  },
  {
   "cell_type": "markdown",
   "id": "50a669e8",
   "metadata": {},
   "source": [
    "#### <span style='background-color:yellow'>3단계 - 매개변수 갱신</span> <br/>\n",
    "가중치 매개변수를 기울기 방향으로 아주 조금 갱신한다."
   ]
  },
  {
   "cell_type": "markdown",
   "id": "4b6b66b5",
   "metadata": {},
   "source": [
    "#### <span style='background-color:yellow'>4단계 - 반복</span> <br/>\n",
    "1~3단계를 반복한다."
   ]
  },
  {
   "cell_type": "markdown",
   "id": "c3ff7984",
   "metadata": {},
   "source": [
    "* 지금까지 설명한 오차역전파법이 등장하는 단계는 두 번째인 기울기 산출이다."
   ]
  },
  {
   "cell_type": "markdown",
   "id": "a138c998",
   "metadata": {},
   "source": [
    "### 5.7.2 오차역전파법을 적용한 신경망 구현하기"
   ]
  },
  {
   "cell_type": "markdown",
   "id": "a080698e",
   "metadata": {},
   "source": [
    "* 신경망을 구현하기 전에, 이 클래스의 인스턴스 변수와 메서드를 정리한 표를 살펴보자."
   ]
  },
  {
   "cell_type": "markdown",
   "id": "0a0ea2a5",
   "metadata": {},
   "source": [
    "<img src=\"https://velog.velcdn.com/images%2Flilpark%2Fpost%2Fe59169aa-7883-446e-890b-16bc518b9b4f%2Fimage.png\" align=\"left\" height=\"700px\" width=\"700px\">"
   ]
  },
  {
   "cell_type": "code",
   "execution_count": 11,
   "id": "42fcf6a3",
   "metadata": {},
   "outputs": [],
   "source": [
    "def identity_function(x):\n",
    "    return x\n",
    "\n",
    "\n",
    "def step_function(x):\n",
    "    return np.array(x > 0, dtype=np.int)\n",
    "\n",
    "\n",
    "def sigmoid(x):\n",
    "    return 1 / (1 + np.exp(-x))    \n",
    "\n",
    "\n",
    "def sigmoid_grad(x):\n",
    "    return (1.0 - sigmoid(x)) * sigmoid(x)\n",
    "    \n",
    "\n",
    "def relu(x):\n",
    "    return np.maximum(0, x)\n",
    "\n",
    "\n",
    "def relu_grad(x):\n",
    "    grad = np.zeros(x)\n",
    "    grad[x>=0] = 1\n",
    "    return grad\n",
    "    \n",
    "\n",
    "def softmax(x):\n",
    "    if x.ndim == 2:\n",
    "        x = x.T\n",
    "        x = x - np.max(x, axis=0)\n",
    "        y = np.exp(x) / np.sum(np.exp(x), axis=0)\n",
    "        return y.T \n",
    "\n",
    "    x = x - np.max(x) # 오버플로 대책\n",
    "    return np.exp(x) / np.sum(np.exp(x))\n",
    "\n",
    "\n",
    "def mean_squared_error(y, t):\n",
    "    return 0.5 * np.sum((y-t)**2)\n",
    "\n",
    "\n",
    "def cross_entropy_error(y, t):\n",
    "    if y.ndim == 1:\n",
    "        t = t.reshape(1, t.size)\n",
    "        y = y.reshape(1, y.size)\n",
    "        \n",
    "    # 훈련 데이터가 원-핫 벡터라면 정답 레이블의 인덱스로 반환\n",
    "    if t.size == y.size:\n",
    "        t = t.argmax(axis=1)\n",
    "             \n",
    "    batch_size = y.shape[0]\n",
    "    return -np.sum(np.log(y[np.arange(batch_size), t] + 1e-7)) / batch_size\n",
    "\n",
    "\n",
    "def softmax_loss(X, t):\n",
    "    y = softmax(X)\n",
    "    return cross_entropy_error(y, t)\n",
    "\n",
    "class Relu:\n",
    "    def __init__(self):\n",
    "        self.mask = None\n",
    "\n",
    "    def forward(self, x):\n",
    "        self.mask = (x <= 0)\n",
    "        out = x.copy()\n",
    "        out[self.mask] = 0\n",
    "\n",
    "        return out\n",
    "\n",
    "    def backward(self, dout):\n",
    "        dout[self.mask] = 0\n",
    "        dx = dout\n",
    "\n",
    "        return dx\n",
    "\n",
    "\n",
    "class Sigmoid:\n",
    "    def __init__(self):\n",
    "        self.out = None\n",
    "\n",
    "    def forward(self, x):\n",
    "        out = sigmoid(x)\n",
    "        self.out = out\n",
    "        return out\n",
    "\n",
    "    def backward(self, dout):\n",
    "        dx = dout * (1.0 - self.out) * self.out\n",
    "\n",
    "        return dx\n",
    "\n",
    "\n",
    "class Affine:\n",
    "    def __init__(self, W, b):\n",
    "        self.W = W\n",
    "        self.b = b\n",
    "        \n",
    "        self.x = None\n",
    "        self.original_x_shape = None\n",
    "        # 가중치와 편향 매개변수의 미분\n",
    "        self.dW = None\n",
    "        self.db = None\n",
    "\n",
    "    def forward(self, x):\n",
    "        # 텐서 대응\n",
    "        self.original_x_shape = x.shape\n",
    "        x = x.reshape(x.shape[0], -1)\n",
    "        self.x = x\n",
    "\n",
    "        out = np.dot(self.x, self.W) + self.b\n",
    "\n",
    "        return out\n",
    "\n",
    "    def backward(self, dout):\n",
    "        dx = np.dot(dout, self.W.T)\n",
    "        self.dW = np.dot(self.x.T, dout)\n",
    "        self.db = np.sum(dout, axis=0)\n",
    "        \n",
    "        dx = dx.reshape(*self.original_x_shape)  # 입력 데이터 모양 변경(텐서 대응)\n",
    "        return dx\n",
    "\n",
    "\n",
    "class SoftmaxWithLoss:\n",
    "    def __init__(self):\n",
    "        self.loss = None # 손실함수\n",
    "        self.y = None    # softmax의 출력\n",
    "        self.t = None    # 정답 레이블(원-핫 인코딩 형태)\n",
    "        \n",
    "    def forward(self, x, t):\n",
    "        self.t = t\n",
    "        self.y = softmax(x)\n",
    "        self.loss = cross_entropy_error(self.y, self.t)\n",
    "        \n",
    "        return self.loss\n",
    "\n",
    "    def backward(self, dout=1):\n",
    "        batch_size = self.t.shape[0]\n",
    "        if self.t.size == self.y.size: # 정답 레이블이 원-핫 인코딩 형태일 때\n",
    "            dx = (self.y - self.t) / batch_size\n",
    "        else:\n",
    "            dx = self.y.copy()\n",
    "            dx[np.arange(batch_size), self.t] -= 1\n",
    "            dx = dx / batch_size\n",
    "        \n",
    "        return dx\n",
    "\n",
    "def numerical_gradient(f, x):\n",
    "    h = 1e-4 # 0.0001\n",
    "    grad = np.zeros_like(x)\n",
    "    \n",
    "    it = np.nditer(x, flags=['multi_index'], op_flags=['readwrite'])\n",
    "    while not it.finished:\n",
    "        idx = it.multi_index\n",
    "        tmp_val = x[idx]\n",
    "        x[idx] = float(tmp_val) + h\n",
    "        fxh1 = f(x) # f(x+h)\n",
    "        \n",
    "        x[idx] = tmp_val - h \n",
    "        fxh2 = f(x) # f(x-h)\n",
    "        grad[idx] = (fxh1 - fxh2) / (2*h)\n",
    "        \n",
    "        x[idx] = tmp_val # 값 복원\n",
    "        it.iternext()   \n",
    "        \n",
    "    return grad"
   ]
  },
  {
   "cell_type": "code",
   "execution_count": 12,
   "id": "4c860086",
   "metadata": {},
   "outputs": [],
   "source": [
    "import numpy as np\n",
    "\n",
    "class TwoLayerNet:\n",
    "    def __init__(self, input_size, hidden_size, output_size, weight_init_std=0.01):\n",
    "        # 가중치 초기화\n",
    "        self.params = {}\n",
    "        self.params['W1'] = weight_init_std * np.random.randn(input_size, hidden_size)\n",
    "        self.params['b1'] = np.zeros(hidden_size)\n",
    "        self.params['W2'] = weight_init_std * np.random.randn(hidden_size, output_size)\n",
    "        self.params['b2'] = np.zeros(output_size)\n",
    "        \n",
    "        self.layers = OrderedDict()\n",
    "        self.layers['Affine1'] = Affine(self.params['W1'], self.params['b1'])\n",
    "        self.layers['Relu1'] = Relu()\n",
    "        self.layers['Affine2'] = Affine(self.params['W2'], self.params['b2'])\n",
    "        self.lastLayer = SoftmaxWithLoss()\n",
    "        \n",
    "    def predict(self, x):\n",
    "        for layer in self.layers.values():\n",
    "            x = layer.forward(x)\n",
    "            \n",
    "        return x\n",
    "    \n",
    "    # x : 입력 데이터, t : 정답 레이블\n",
    "    def loss(self, x, t):\n",
    "        y = self.predict(x)\n",
    "        return self.lastLayer.forward(y, t)\n",
    "    \n",
    "    def accuracy(self, x, t):\n",
    "        y = self.predict(x)\n",
    "        y = np.argmax(y, axis=1)\n",
    "        if t.ndim != 1:\n",
    "            t = np.argmax(t, axis=1)\n",
    "        \n",
    "        accuracy = np.sum(y == t) / float(x.shape[0])\n",
    "        \n",
    "        return accuracy\n",
    "    \n",
    "    # x : 입력 데이터, t : 정답 레이블\n",
    "    def numerical_gradient(self, x, t):\n",
    "        loss_W = lambda W: self.loss(x, t)\n",
    "        \n",
    "        grads={}\n",
    "        grads['W1'] = numerical_gradient(loss_W, self.params['W1'])\n",
    "        grads['b1'] = numerical_gradient(loss_W, self.params['b1'])\n",
    "        grads['W2'] = numerical_gradient(loss_W, self.params['W2'])\n",
    "        grads['b2'] = numerical_gradient(loss_W, self.params['b2'])\n",
    "        \n",
    "        return grads\n",
    "    \n",
    "    def gradient(self, x, t):\n",
    "        # 순전파\n",
    "        self.loss(x, t)\n",
    "        \n",
    "        # 역전파\n",
    "        dout = 1\n",
    "        dout = self.lastLayer.backward(dout)\n",
    "        \n",
    "        layers = list(self.layers.values())\n",
    "        layers.reverse()\n",
    "        for layer in layers:\n",
    "            dout = layer.backward(dout)\n",
    "            \n",
    "        grads = {}\n",
    "        grads['W1'] = self.layers['Affine1'].dW\n",
    "        grads['b1'] = self.layers['Affine1'].db\n",
    "        grads['W2'] = self.layers['Affine2'].dW\n",
    "        grads['b2'] = self.layers['Affine2'].db\n",
    "        \n",
    "        return grads"
   ]
  },
  {
   "cell_type": "markdown",
   "id": "049fc0b7",
   "metadata": {},
   "source": [
    "### 5.7.3 오차역전파법으로 구한 기울기 검증하기"
   ]
  },
  {
   "cell_type": "markdown",
   "id": "b39f3cad",
   "metadata": {},
   "source": [
    "* 수치미분은 오차역전파법에 비해 느리다. 하지만 오차역전파법을 정확히 구현했는지 확인하기 위해 필요하다.\n",
    "* 수치미분의 이점은 구현하기 쉽다는 것이다. 하지만 오차역전파법은 구현하기 복잡해서 종종 실수를 하곤 한다.\n",
    "* 그래서 수치미분의 결과와 오차역전파법의 결과를 비교하여 오차역전파법을 제대로 구현했는지 검증하곤 한다.\n",
    "* 이처럼 두 방식으로 구한 기울기가 일치함을 확인하는 작업을 <span style=\"color:blue\">기울기 확인</span>이라고 한다\n",
    "* 기울기 확인은 다음과 같이 구현한다."
   ]
  },
  {
   "cell_type": "code",
   "execution_count": 13,
   "id": "3ad7bc0c",
   "metadata": {},
   "outputs": [
    {
     "name": "stdout",
     "output_type": "stream",
     "text": [
      "W1:5.894402783091998e-10\n",
      "b1:3.389520343303944e-09\n",
      "W2:6.170298644618993e-09\n",
      "b2:1.4022778820621528e-07\n"
     ]
    }
   ],
   "source": [
    "import numpy as np\n",
    "from mnist import load_mnist\n",
    "from collections import OrderedDict\n",
    "\n",
    "(x_train, t_train), (x_test, t_test) = load_mnist(normalize=True, one_hot_label=True)\n",
    "\n",
    "network = TwoLayerNet(input_size=784, hidden_size=50, output_size=10)\n",
    "\n",
    "x_batch = x_train[:3]\n",
    "t_batch = t_train[:3]\n",
    "\n",
    "grad_numerical = network.numerical_gradient(x_batch, t_batch)\n",
    "grad_backprop = network.gradient(x_batch, t_batch)\n",
    "\n",
    "# 각 가중치의 차이의 절댓값을 구한 후, 그 절댓값들의 평균을 낸다\n",
    "for key in grad_numerical.keys():\n",
    "    diff = np.average(np.abs(grad_backprop[key] - grad_numerical[key]))\n",
    "    print(key + \":\" + str(diff))"
   ]
  },
  {
   "cell_type": "markdown",
   "id": "5aa5259f",
   "metadata": {},
   "source": [
    "* 이 결과는 수치미분과 오차역전파법으로 구한 기울기의 차이가 매우 작다고 말해준다.\n",
    "* 이로써 오차역전파법으로 구한 기울기도 올바름이 드러나면서 실수없이 구현했다는 믿음이 커진다."
   ]
  },
  {
   "cell_type": "markdown",
   "id": "1b7754d3",
   "metadata": {},
   "source": [
    "### 5.7.4 오차역전파법을 사용한 학습 구현하기"
   ]
  },
  {
   "cell_type": "code",
   "execution_count": 14,
   "id": "6b1e2dbc",
   "metadata": {},
   "outputs": [
    {
     "name": "stdout",
     "output_type": "stream",
     "text": [
      "0.12058333333333333 0.1233\n",
      "0.9007833333333334 0.9028\n",
      "0.9218666666666666 0.9245\n",
      "0.9353 0.9354\n",
      "0.9443 0.9431\n",
      "0.95285 0.9498\n",
      "0.9567333333333333 0.9532\n",
      "0.9610833333333333 0.9581\n",
      "0.9647 0.9604\n",
      "0.9684333333333334 0.9627\n",
      "0.9692833333333334 0.9654\n",
      "0.9721166666666666 0.9664\n",
      "0.9732666666666666 0.9658\n",
      "0.97585 0.9683\n",
      "0.9775666666666667 0.9675\n",
      "0.9790833333333333 0.9706\n",
      "0.9802666666666666 0.9711\n"
     ]
    }
   ],
   "source": [
    "import numpy as np\n",
    "from mnist import load_mnist\n",
    "\n",
    "(x_train, t_train), (x_test, t_test) = load_mnist(normalize=True, one_hot_label=True)\n",
    "\n",
    "network = TwoLayerNet(input_size=784, hidden_size=50, output_size=10)\n",
    "\n",
    "iters_num = 10000\n",
    "train_size = x_train.shape[0]\n",
    "batch_size = 100\n",
    "learning_rate = 0.1\n",
    "\n",
    "train_loss_list = []\n",
    "train_acc_list = []\n",
    "test_acc_list = []\n",
    "\n",
    "iter_per_epoch = max(train_size / batch_size, 1)\n",
    "\n",
    "for i in range(iters_num):\n",
    "    batch_mask = np.random.choice(train_size, batch_size)\n",
    "    x_batch = x_train[batch_mask]\n",
    "    t_batch = t_train[batch_mask]\n",
    "    \n",
    "    # 오차역전파법으로 기울기를 구한다.\n",
    "    grad = network.gradient(x_batch, t_batch)\n",
    "    \n",
    "    # 갱신\n",
    "    for key in ('W1', 'b1', 'W2', 'b2'):\n",
    "        network.params[key] -= learning_rate * grad[key]\n",
    "        \n",
    "    loss = network.loss(x_batch, t_batch)\n",
    "    train_loss_list.append(loss)\n",
    "    \n",
    "    if i % iter_per_epoch == 0:\n",
    "        train_acc = network.accuracy(x_train, t_train)\n",
    "        test_acc = network.accuracy(x_test, t_test)\n",
    "        train_acc_list.append(train_acc)\n",
    "        test_acc_list.append(test_acc)\n",
    "        print(train_acc, test_acc)"
   ]
  },
  {
   "cell_type": "code",
   "execution_count": 17,
   "id": "d6cae87a",
   "metadata": {},
   "outputs": [
    {
     "data": {
      "image/png": "[encoded data removed]",
      "text/plain": [
       "<Figure size 640x480 with 1 Axes>"
      ]
     },
     "metadata": {},
     "output_type": "display_data"
    }
   ],
   "source": [
    "import matplotlib.pyplot as plt\n",
    "\n",
    "# 그래프 그리기\n",
    "markers = {'train': 'o', 'test': 's'}\n",
    "x = np.arange(len(train_acc_list))\n",
    "plt.plot(x, train_acc_list, label='train acc')\n",
    "plt.plot(x, test_acc_list, label='test acc', linestyle='--')\n",
    "plt.xlabel(\"epochs\")\n",
    "plt.ylabel(\"accuracy\")\n",
    "plt.ylim(0, 1.0)\n",
    "plt.legend(loc='lower right')\n",
    "plt.show()"
   ]
  },
  {
   "cell_type": "code",
   "execution_count": null,
   "id": "64de2fb2",
   "metadata": {},
   "outputs": [],
   "source": []
  }
 ],
 "metadata": {
  "kernelspec": {
   "display_name": "Python 3 (ipykernel)",
   "language": "python",
   "name": "python3"
  },
  "language_info": {
   "codemirror_mode": {
    "name": "ipython",
    "version": 3
   },
   "file_extension": ".py",
   "mimetype": "text/x-python",
   "name": "python",
   "nbconvert_exporter": "python",
   "pygments_lexer": "ipython3",
   "version": "3.8.10"
  }
 },
 "nbformat": 4,
 "nbformat_minor": 5
}
